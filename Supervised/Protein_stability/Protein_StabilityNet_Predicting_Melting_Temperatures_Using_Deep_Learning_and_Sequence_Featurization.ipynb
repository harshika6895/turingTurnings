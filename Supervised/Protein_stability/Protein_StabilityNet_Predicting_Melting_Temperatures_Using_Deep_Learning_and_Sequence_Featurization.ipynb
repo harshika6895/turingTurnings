{
  "nbformat": 4,
  "nbformat_minor": 0,
  "metadata": {
    "colab": {
      "provenance": []
    },
    "kernelspec": {
      "name": "python3",
      "display_name": "Python 3"
    },
    "language_info": {
      "name": "python"
    }
  },
  "cells": [
    {
      "cell_type": "code",
      "execution_count": null,
      "metadata": {
        "colab": {
          "base_uri": "https://localhost:8080/"
        },
        "id": "nA1PbA3jsyI6",
        "outputId": "aa176750-5146-4a9c-9337-712a73605f5e"
      },
      "outputs": [
        {
          "output_type": "stream",
          "name": "stdout",
          "text": [
            "  % Total    % Received % Xferd  Average Speed   Time    Time     Time  Current\n",
            "                                 Dload  Upload   Total   Spent    Left  Speed\n",
            "\r  0     0    0     0    0     0      0      0 --:--:-- --:--:-- --:--:--     0\r100  3457  100  3457    0     0  17995      0 --:--:-- --:--:-- --:--:-- 18099\n"
          ]
        },
        {
          "output_type": "stream",
          "name": "stderr",
          "text": [
            "add /root/miniconda/lib/python3.10/site-packages to PYTHONPATH\n",
            "INFO:conda_installer:add /root/miniconda/lib/python3.10/site-packages to PYTHONPATH\n",
            "python version: 3.10.12\n",
            "INFO:conda_installer:python version: 3.10.12\n",
            "fetching installer from https://repo.continuum.io/miniconda/Miniconda3-latest-Linux-x86_64.sh\n",
            "INFO:conda_installer:fetching installer from https://repo.continuum.io/miniconda/Miniconda3-latest-Linux-x86_64.sh\n",
            "done\n",
            "INFO:conda_installer:done\n",
            "installing miniconda to /root/miniconda\n",
            "INFO:conda_installer:installing miniconda to /root/miniconda\n",
            "done\n",
            "INFO:conda_installer:done\n",
            "installing openmm, pdbfixer\n",
            "INFO:conda_installer:installing openmm, pdbfixer\n",
            "added conda-forge to channels\n",
            "INFO:conda_installer:added conda-forge to channels\n",
            "done\n",
            "INFO:conda_installer:done\n",
            "conda packages installation finished!\n",
            "INFO:conda_installer:conda packages installation finished!\n"
          ]
        },
        {
          "output_type": "stream",
          "name": "stdout",
          "text": [
            "# conda environments:\n",
            "#\n",
            "base                     /root/miniconda\n",
            "\n"
          ]
        }
      ],
      "source": [
        "!curl -Lo conda_installer.py https://raw.githubusercontent.com/deepchem/deepchem/master/scripts/colab_install.py\n",
        "import conda_installer\n",
        "conda_installer.install()\n",
        "!/root/miniconda/bin/conda info -e"
      ]
    },
    {
      "cell_type": "code",
      "source": [
        "!pip install --pre deepchem\n",
        "!pip install propy3"
      ],
      "metadata": {
        "colab": {
          "base_uri": "https://localhost:8080/"
        },
        "id": "9Shq-jMrtn_6",
        "outputId": "d16a7d37-5e68-406f-cb45-682a1eeb2b89"
      },
      "execution_count": null,
      "outputs": [
        {
          "output_type": "stream",
          "name": "stdout",
          "text": [
            "Collecting deepchem\n",
            "  Downloading deepchem-2.8.1.dev20240424201325-py3-none-any.whl (1.1 MB)\n",
            "\u001b[2K     \u001b[90m━━━━━━━━━━━━━━━━━━━━━━━━━━━━━━━━━━━━━━━━\u001b[0m \u001b[32m1.1/1.1 MB\u001b[0m \u001b[31m8.9 MB/s\u001b[0m eta \u001b[36m0:00:00\u001b[0m\n",
            "\u001b[?25hRequirement already satisfied: joblib in /usr/local/lib/python3.10/dist-packages (from deepchem) (1.4.0)\n",
            "Requirement already satisfied: numpy>=1.21 in /usr/local/lib/python3.10/dist-packages (from deepchem) (1.25.2)\n",
            "Requirement already satisfied: pandas in /usr/local/lib/python3.10/dist-packages (from deepchem) (2.0.3)\n",
            "Requirement already satisfied: scikit-learn in /usr/local/lib/python3.10/dist-packages (from deepchem) (1.2.2)\n",
            "Requirement already satisfied: sympy in /usr/local/lib/python3.10/dist-packages (from deepchem) (1.12)\n",
            "Requirement already satisfied: scipy>=1.10.1 in /usr/local/lib/python3.10/dist-packages (from deepchem) (1.11.4)\n",
            "Collecting rdkit (from deepchem)\n",
            "  Downloading rdkit-2023.9.6-cp310-cp310-manylinux_2_17_x86_64.manylinux2014_x86_64.whl (34.9 MB)\n",
            "\u001b[2K     \u001b[90m━━━━━━━━━━━━━━━━━━━━━━━━━━━━━━━━━━━━━━━━\u001b[0m \u001b[32m34.9/34.9 MB\u001b[0m \u001b[31m28.3 MB/s\u001b[0m eta \u001b[36m0:00:00\u001b[0m\n",
            "\u001b[?25hRequirement already satisfied: python-dateutil>=2.8.2 in /usr/local/lib/python3.10/dist-packages (from pandas->deepchem) (2.8.2)\n",
            "Requirement already satisfied: pytz>=2020.1 in /usr/local/lib/python3.10/dist-packages (from pandas->deepchem) (2023.4)\n",
            "Requirement already satisfied: tzdata>=2022.1 in /usr/local/lib/python3.10/dist-packages (from pandas->deepchem) (2024.1)\n",
            "Requirement already satisfied: Pillow in /usr/local/lib/python3.10/dist-packages (from rdkit->deepchem) (9.4.0)\n",
            "Requirement already satisfied: threadpoolctl>=2.0.0 in /usr/local/lib/python3.10/dist-packages (from scikit-learn->deepchem) (3.4.0)\n",
            "Requirement already satisfied: mpmath>=0.19 in /usr/local/lib/python3.10/dist-packages (from sympy->deepchem) (1.3.0)\n",
            "Requirement already satisfied: six>=1.5 in /usr/local/lib/python3.10/dist-packages (from python-dateutil>=2.8.2->pandas->deepchem) (1.16.0)\n",
            "Installing collected packages: rdkit, deepchem\n",
            "Successfully installed deepchem-2.8.1.dev20240424201325 rdkit-2023.9.6\n",
            "Collecting propy3\n",
            "  Downloading propy3-1.1.1-py3-none-any.whl (290 kB)\n",
            "\u001b[2K     \u001b[90m━━━━━━━━━━━━━━━━━━━━━━━━━━━━━━━━━━━━━━━━\u001b[0m \u001b[32m290.3/290.3 kB\u001b[0m \u001b[31m4.3 MB/s\u001b[0m eta \u001b[36m0:00:00\u001b[0m\n",
            "\u001b[?25hInstalling collected packages: propy3\n",
            "Successfully installed propy3-1.1.1\n"
          ]
        }
      ]
    },
    {
      "cell_type": "code",
      "source": [
        "import deepchem as dc\n",
        "import os\n",
        "from deepchem.utils import download_url\n",
        "data_dir = dc.utils.get_data_dir()\n",
        "download_url(\"https://deepchemdata.s3-us-west-1.amazonaws.com/datasets/pucci-proteins-appendixtable1.csv\",dest_dir=data_dir)\n",
        "print('Dataset Dowloaded at {}'.format(data_dir))\n",
        "dataset_file = os.path.join(data_dir, \"pucci-proteins-appendixtable1.csv\")"
      ],
      "metadata": {
        "colab": {
          "base_uri": "https://localhost:8080/"
        },
        "id": "7z5bLhACuDfz",
        "outputId": "0fbb467d-93e3-40f4-ac74-4f5063e25e7f"
      },
      "execution_count": null,
      "outputs": [
        {
          "output_type": "stream",
          "name": "stderr",
          "text": [
            "WARNING:deepchem.feat.molecule_featurizers.rdkit_descriptors:No normalization for SPS. Feature removed!\n",
            "WARNING:deepchem.feat.molecule_featurizers.rdkit_descriptors:No normalization for AvgIpc. Feature removed!\n",
            "WARNING:tensorflow:From /usr/local/lib/python3.10/dist-packages/tensorflow/python/util/deprecation.py:588: calling function (from tensorflow.python.eager.polymorphic_function.polymorphic_function) with experimental_relax_shapes is deprecated and will be removed in a future version.\n",
            "Instructions for updating:\n",
            "experimental_relax_shapes is deprecated, use reduce_retracing instead\n",
            "WARNING:deepchem.models.torch_models:Skipped loading modules with pytorch-geometric dependency, missing a dependency. No module named 'torch_geometric'\n",
            "WARNING:deepchem.models:Skipped loading modules with pytorch-geometric dependency, missing a dependency. cannot import name 'DMPNN' from 'deepchem.models.torch_models' (/usr/local/lib/python3.10/dist-packages/deepchem/models/torch_models/__init__.py)\n",
            "WARNING:deepchem.models:Skipped loading modules with pytorch-lightning dependency, missing a dependency. No module named 'lightning'\n",
            "WARNING:deepchem.models:Skipped loading some Jax models, missing a dependency. No module named 'haiku'\n"
          ]
        },
        {
          "output_type": "stream",
          "name": "stdout",
          "text": [
            "Dataset Dowloaded at /tmp\n"
          ]
        }
      ]
    },
    {
      "cell_type": "code",
      "source": [
        "import pandas as pd\n",
        "data = pd.read_csv(dataset_file)\n",
        "data"
      ],
      "metadata": {
        "colab": {
          "base_uri": "https://localhost:8080/",
          "height": 548
        },
        "id": "GqWiIc12uf0M",
        "outputId": "85223ebc-7eb7-4a65-d192-5c57b44e47ce"
      },
      "execution_count": null,
      "outputs": [
        {
          "output_type": "execute_result",
          "data": {
            "text/plain": [
              "      Unnamed: 0     N      PDBid Chain  RESN RESwt RESmut  ΔTmexp  \\\n",
              "0            NaN     1       1aky     A     8   VAL    ILE    -1.5   \n",
              "1            NaN     2       1aky     A    48   GLN    GLU    -1.3   \n",
              "2            NaN     3       1aky     A    77   THR    HIS    -1.1   \n",
              "3            NaN     4       1aky     A   110   THR    HIS    -4.8   \n",
              "4            NaN     5       1aky     A   169   ASN    ASP    -0.6   \n",
              "...          ...   ...        ...   ...   ...   ...    ...     ...   \n",
              "1621         NaN  1622  5pti_m52l     A    15   LYS    SER    -1.3   \n",
              "1622         NaN  1623  5pti_m52l     A    15   LYS    THR    -1.1   \n",
              "1623         NaN  1624  5pti_m52l     A    15   LYS    VAL    -6.3   \n",
              "1624         NaN  1625  5pti_m52l     A    15   LYS    TRP    -7.5   \n",
              "1625         NaN  1626  5pti_m52l     A    15   LYS    TYR    -6.6   \n",
              "\n",
              "      Tmexp [wt] ΔΔHmexp  ... ΔΔGexp(T)   T Nres R (Å)   Protein  Organism  \\\n",
              "0           47.6      70  ...       5.0  25  220  1.63       ADK     Yeast   \n",
              "1           47.6      60  ...       4.0  25  220  1.63       ADK     Yeast   \n",
              "2           47.6     130  ...       9.0  25  220  1.63       ADK     Yeast   \n",
              "3           47.6     165  ...      11.0  25  220  1.63       ADK     Yeast   \n",
              "4           47.6     140  ...       9.0  25  220  1.63       ADK     Yeast   \n",
              "...          ...     ...  ...       ...  ..  ...   ...       ...       ...   \n",
              "1621        91.7      -5  ...       1.2  25   58  1.00  PTI M52L    Bovine   \n",
              "1622        91.7      -9  ...      -3.6  25   58  1.00  PTI M52L    Bovine   \n",
              "1623        91.7       4  ...       4.7  25   58  1.00  PTI M52L    Bovine   \n",
              "1624        91.7      17  ...       8.5  25   58  1.00  PTI M52L    Bovine   \n",
              "1625        91.7       4  ...       4.6  25   58  1.00  PTI M52L    Bovine   \n",
              "\n",
              "       Ref.     pH Exp.Tech.      \n",
              "0       [1]  [7.5]       FL  NaN  \n",
              "1       [1]  [7.7]       FL  NaN  \n",
              "2       [1]  [7.5]       FL  NaN  \n",
              "3       [1]  [7.6]       FL  NaN  \n",
              "4       [1]  [7.5]       FL  NaN  \n",
              "...     ...    ...       ...  ..  \n",
              "1621  [232]  [3.0]       DSC NaN  \n",
              "1622  [232]  [3.0]       DSC NaN  \n",
              "1623  [232]  [3.0]       DSC NaN  \n",
              "1624  [232]  [2.5]       DSC NaN  \n",
              "1625  [232]  [3.0]       DSC NaN  \n",
              "\n",
              "[1626 rows x 23 columns]"
            ],
            "text/html": [
              "\n",
              "  <div id=\"df-4dcd3614-01c2-4ddc-b927-498476b0a0a6\" class=\"colab-df-container\">\n",
              "    <div>\n",
              "<style scoped>\n",
              "    .dataframe tbody tr th:only-of-type {\n",
              "        vertical-align: middle;\n",
              "    }\n",
              "\n",
              "    .dataframe tbody tr th {\n",
              "        vertical-align: top;\n",
              "    }\n",
              "\n",
              "    .dataframe thead th {\n",
              "        text-align: right;\n",
              "    }\n",
              "</style>\n",
              "<table border=\"1\" class=\"dataframe\">\n",
              "  <thead>\n",
              "    <tr style=\"text-align: right;\">\n",
              "      <th></th>\n",
              "      <th>Unnamed: 0</th>\n",
              "      <th>N</th>\n",
              "      <th>PDBid</th>\n",
              "      <th>Chain</th>\n",
              "      <th>RESN</th>\n",
              "      <th>RESwt</th>\n",
              "      <th>RESmut</th>\n",
              "      <th>ΔTmexp</th>\n",
              "      <th>Tmexp [wt]</th>\n",
              "      <th>ΔΔHmexp</th>\n",
              "      <th>...</th>\n",
              "      <th>ΔΔGexp(T)</th>\n",
              "      <th>T</th>\n",
              "      <th>Nres</th>\n",
              "      <th>R (Å)</th>\n",
              "      <th>Protein</th>\n",
              "      <th>Organism</th>\n",
              "      <th>Ref.</th>\n",
              "      <th>pH</th>\n",
              "      <th>Exp.Tech.</th>\n",
              "      <th></th>\n",
              "    </tr>\n",
              "  </thead>\n",
              "  <tbody>\n",
              "    <tr>\n",
              "      <th>0</th>\n",
              "      <td>NaN</td>\n",
              "      <td>1</td>\n",
              "      <td>1aky</td>\n",
              "      <td>A</td>\n",
              "      <td>8</td>\n",
              "      <td>VAL</td>\n",
              "      <td>ILE</td>\n",
              "      <td>-1.5</td>\n",
              "      <td>47.6</td>\n",
              "      <td>70</td>\n",
              "      <td>...</td>\n",
              "      <td>5.0</td>\n",
              "      <td>25</td>\n",
              "      <td>220</td>\n",
              "      <td>1.63</td>\n",
              "      <td>ADK</td>\n",
              "      <td>Yeast</td>\n",
              "      <td>[1]</td>\n",
              "      <td>[7.5]</td>\n",
              "      <td>FL</td>\n",
              "      <td>NaN</td>\n",
              "    </tr>\n",
              "    <tr>\n",
              "      <th>1</th>\n",
              "      <td>NaN</td>\n",
              "      <td>2</td>\n",
              "      <td>1aky</td>\n",
              "      <td>A</td>\n",
              "      <td>48</td>\n",
              "      <td>GLN</td>\n",
              "      <td>GLU</td>\n",
              "      <td>-1.3</td>\n",
              "      <td>47.6</td>\n",
              "      <td>60</td>\n",
              "      <td>...</td>\n",
              "      <td>4.0</td>\n",
              "      <td>25</td>\n",
              "      <td>220</td>\n",
              "      <td>1.63</td>\n",
              "      <td>ADK</td>\n",
              "      <td>Yeast</td>\n",
              "      <td>[1]</td>\n",
              "      <td>[7.7]</td>\n",
              "      <td>FL</td>\n",
              "      <td>NaN</td>\n",
              "    </tr>\n",
              "    <tr>\n",
              "      <th>2</th>\n",
              "      <td>NaN</td>\n",
              "      <td>3</td>\n",
              "      <td>1aky</td>\n",
              "      <td>A</td>\n",
              "      <td>77</td>\n",
              "      <td>THR</td>\n",
              "      <td>HIS</td>\n",
              "      <td>-1.1</td>\n",
              "      <td>47.6</td>\n",
              "      <td>130</td>\n",
              "      <td>...</td>\n",
              "      <td>9.0</td>\n",
              "      <td>25</td>\n",
              "      <td>220</td>\n",
              "      <td>1.63</td>\n",
              "      <td>ADK</td>\n",
              "      <td>Yeast</td>\n",
              "      <td>[1]</td>\n",
              "      <td>[7.5]</td>\n",
              "      <td>FL</td>\n",
              "      <td>NaN</td>\n",
              "    </tr>\n",
              "    <tr>\n",
              "      <th>3</th>\n",
              "      <td>NaN</td>\n",
              "      <td>4</td>\n",
              "      <td>1aky</td>\n",
              "      <td>A</td>\n",
              "      <td>110</td>\n",
              "      <td>THR</td>\n",
              "      <td>HIS</td>\n",
              "      <td>-4.8</td>\n",
              "      <td>47.6</td>\n",
              "      <td>165</td>\n",
              "      <td>...</td>\n",
              "      <td>11.0</td>\n",
              "      <td>25</td>\n",
              "      <td>220</td>\n",
              "      <td>1.63</td>\n",
              "      <td>ADK</td>\n",
              "      <td>Yeast</td>\n",
              "      <td>[1]</td>\n",
              "      <td>[7.6]</td>\n",
              "      <td>FL</td>\n",
              "      <td>NaN</td>\n",
              "    </tr>\n",
              "    <tr>\n",
              "      <th>4</th>\n",
              "      <td>NaN</td>\n",
              "      <td>5</td>\n",
              "      <td>1aky</td>\n",
              "      <td>A</td>\n",
              "      <td>169</td>\n",
              "      <td>ASN</td>\n",
              "      <td>ASP</td>\n",
              "      <td>-0.6</td>\n",
              "      <td>47.6</td>\n",
              "      <td>140</td>\n",
              "      <td>...</td>\n",
              "      <td>9.0</td>\n",
              "      <td>25</td>\n",
              "      <td>220</td>\n",
              "      <td>1.63</td>\n",
              "      <td>ADK</td>\n",
              "      <td>Yeast</td>\n",
              "      <td>[1]</td>\n",
              "      <td>[7.5]</td>\n",
              "      <td>FL</td>\n",
              "      <td>NaN</td>\n",
              "    </tr>\n",
              "    <tr>\n",
              "      <th>...</th>\n",
              "      <td>...</td>\n",
              "      <td>...</td>\n",
              "      <td>...</td>\n",
              "      <td>...</td>\n",
              "      <td>...</td>\n",
              "      <td>...</td>\n",
              "      <td>...</td>\n",
              "      <td>...</td>\n",
              "      <td>...</td>\n",
              "      <td>...</td>\n",
              "      <td>...</td>\n",
              "      <td>...</td>\n",
              "      <td>...</td>\n",
              "      <td>...</td>\n",
              "      <td>...</td>\n",
              "      <td>...</td>\n",
              "      <td>...</td>\n",
              "      <td>...</td>\n",
              "      <td>...</td>\n",
              "      <td>...</td>\n",
              "      <td>...</td>\n",
              "    </tr>\n",
              "    <tr>\n",
              "      <th>1621</th>\n",
              "      <td>NaN</td>\n",
              "      <td>1622</td>\n",
              "      <td>5pti_m52l</td>\n",
              "      <td>A</td>\n",
              "      <td>15</td>\n",
              "      <td>LYS</td>\n",
              "      <td>SER</td>\n",
              "      <td>-1.3</td>\n",
              "      <td>91.7</td>\n",
              "      <td>-5</td>\n",
              "      <td>...</td>\n",
              "      <td>1.2</td>\n",
              "      <td>25</td>\n",
              "      <td>58</td>\n",
              "      <td>1.00</td>\n",
              "      <td>PTI M52L</td>\n",
              "      <td>Bovine</td>\n",
              "      <td>[232]</td>\n",
              "      <td>[3.0]</td>\n",
              "      <td>DSC</td>\n",
              "      <td>NaN</td>\n",
              "    </tr>\n",
              "    <tr>\n",
              "      <th>1622</th>\n",
              "      <td>NaN</td>\n",
              "      <td>1623</td>\n",
              "      <td>5pti_m52l</td>\n",
              "      <td>A</td>\n",
              "      <td>15</td>\n",
              "      <td>LYS</td>\n",
              "      <td>THR</td>\n",
              "      <td>-1.1</td>\n",
              "      <td>91.7</td>\n",
              "      <td>-9</td>\n",
              "      <td>...</td>\n",
              "      <td>-3.6</td>\n",
              "      <td>25</td>\n",
              "      <td>58</td>\n",
              "      <td>1.00</td>\n",
              "      <td>PTI M52L</td>\n",
              "      <td>Bovine</td>\n",
              "      <td>[232]</td>\n",
              "      <td>[3.0]</td>\n",
              "      <td>DSC</td>\n",
              "      <td>NaN</td>\n",
              "    </tr>\n",
              "    <tr>\n",
              "      <th>1623</th>\n",
              "      <td>NaN</td>\n",
              "      <td>1624</td>\n",
              "      <td>5pti_m52l</td>\n",
              "      <td>A</td>\n",
              "      <td>15</td>\n",
              "      <td>LYS</td>\n",
              "      <td>VAL</td>\n",
              "      <td>-6.3</td>\n",
              "      <td>91.7</td>\n",
              "      <td>4</td>\n",
              "      <td>...</td>\n",
              "      <td>4.7</td>\n",
              "      <td>25</td>\n",
              "      <td>58</td>\n",
              "      <td>1.00</td>\n",
              "      <td>PTI M52L</td>\n",
              "      <td>Bovine</td>\n",
              "      <td>[232]</td>\n",
              "      <td>[3.0]</td>\n",
              "      <td>DSC</td>\n",
              "      <td>NaN</td>\n",
              "    </tr>\n",
              "    <tr>\n",
              "      <th>1624</th>\n",
              "      <td>NaN</td>\n",
              "      <td>1625</td>\n",
              "      <td>5pti_m52l</td>\n",
              "      <td>A</td>\n",
              "      <td>15</td>\n",
              "      <td>LYS</td>\n",
              "      <td>TRP</td>\n",
              "      <td>-7.5</td>\n",
              "      <td>91.7</td>\n",
              "      <td>17</td>\n",
              "      <td>...</td>\n",
              "      <td>8.5</td>\n",
              "      <td>25</td>\n",
              "      <td>58</td>\n",
              "      <td>1.00</td>\n",
              "      <td>PTI M52L</td>\n",
              "      <td>Bovine</td>\n",
              "      <td>[232]</td>\n",
              "      <td>[2.5]</td>\n",
              "      <td>DSC</td>\n",
              "      <td>NaN</td>\n",
              "    </tr>\n",
              "    <tr>\n",
              "      <th>1625</th>\n",
              "      <td>NaN</td>\n",
              "      <td>1626</td>\n",
              "      <td>5pti_m52l</td>\n",
              "      <td>A</td>\n",
              "      <td>15</td>\n",
              "      <td>LYS</td>\n",
              "      <td>TYR</td>\n",
              "      <td>-6.6</td>\n",
              "      <td>91.7</td>\n",
              "      <td>4</td>\n",
              "      <td>...</td>\n",
              "      <td>4.6</td>\n",
              "      <td>25</td>\n",
              "      <td>58</td>\n",
              "      <td>1.00</td>\n",
              "      <td>PTI M52L</td>\n",
              "      <td>Bovine</td>\n",
              "      <td>[232]</td>\n",
              "      <td>[3.0]</td>\n",
              "      <td>DSC</td>\n",
              "      <td>NaN</td>\n",
              "    </tr>\n",
              "  </tbody>\n",
              "</table>\n",
              "<p>1626 rows × 23 columns</p>\n",
              "</div>\n",
              "    <div class=\"colab-df-buttons\">\n",
              "\n",
              "  <div class=\"colab-df-container\">\n",
              "    <button class=\"colab-df-convert\" onclick=\"convertToInteractive('df-4dcd3614-01c2-4ddc-b927-498476b0a0a6')\"\n",
              "            title=\"Convert this dataframe to an interactive table.\"\n",
              "            style=\"display:none;\">\n",
              "\n",
              "  <svg xmlns=\"http://www.w3.org/2000/svg\" height=\"24px\" viewBox=\"0 -960 960 960\">\n",
              "    <path d=\"M120-120v-720h720v720H120Zm60-500h600v-160H180v160Zm220 220h160v-160H400v160Zm0 220h160v-160H400v160ZM180-400h160v-160H180v160Zm440 0h160v-160H620v160ZM180-180h160v-160H180v160Zm440 0h160v-160H620v160Z\"/>\n",
              "  </svg>\n",
              "    </button>\n",
              "\n",
              "  <style>\n",
              "    .colab-df-container {\n",
              "      display:flex;\n",
              "      gap: 12px;\n",
              "    }\n",
              "\n",
              "    .colab-df-convert {\n",
              "      background-color: #E8F0FE;\n",
              "      border: none;\n",
              "      border-radius: 50%;\n",
              "      cursor: pointer;\n",
              "      display: none;\n",
              "      fill: #1967D2;\n",
              "      height: 32px;\n",
              "      padding: 0 0 0 0;\n",
              "      width: 32px;\n",
              "    }\n",
              "\n",
              "    .colab-df-convert:hover {\n",
              "      background-color: #E2EBFA;\n",
              "      box-shadow: 0px 1px 2px rgba(60, 64, 67, 0.3), 0px 1px 3px 1px rgba(60, 64, 67, 0.15);\n",
              "      fill: #174EA6;\n",
              "    }\n",
              "\n",
              "    .colab-df-buttons div {\n",
              "      margin-bottom: 4px;\n",
              "    }\n",
              "\n",
              "    [theme=dark] .colab-df-convert {\n",
              "      background-color: #3B4455;\n",
              "      fill: #D2E3FC;\n",
              "    }\n",
              "\n",
              "    [theme=dark] .colab-df-convert:hover {\n",
              "      background-color: #434B5C;\n",
              "      box-shadow: 0px 1px 3px 1px rgba(0, 0, 0, 0.15);\n",
              "      filter: drop-shadow(0px 1px 2px rgba(0, 0, 0, 0.3));\n",
              "      fill: #FFFFFF;\n",
              "    }\n",
              "  </style>\n",
              "\n",
              "    <script>\n",
              "      const buttonEl =\n",
              "        document.querySelector('#df-4dcd3614-01c2-4ddc-b927-498476b0a0a6 button.colab-df-convert');\n",
              "      buttonEl.style.display =\n",
              "        google.colab.kernel.accessAllowed ? 'block' : 'none';\n",
              "\n",
              "      async function convertToInteractive(key) {\n",
              "        const element = document.querySelector('#df-4dcd3614-01c2-4ddc-b927-498476b0a0a6');\n",
              "        const dataTable =\n",
              "          await google.colab.kernel.invokeFunction('convertToInteractive',\n",
              "                                                    [key], {});\n",
              "        if (!dataTable) return;\n",
              "\n",
              "        const docLinkHtml = 'Like what you see? Visit the ' +\n",
              "          '<a target=\"_blank\" href=https://colab.research.google.com/notebooks/data_table.ipynb>data table notebook</a>'\n",
              "          + ' to learn more about interactive tables.';\n",
              "        element.innerHTML = '';\n",
              "        dataTable['output_type'] = 'display_data';\n",
              "        await google.colab.output.renderOutput(dataTable, element);\n",
              "        const docLink = document.createElement('div');\n",
              "        docLink.innerHTML = docLinkHtml;\n",
              "        element.appendChild(docLink);\n",
              "      }\n",
              "    </script>\n",
              "  </div>\n",
              "\n",
              "\n",
              "<div id=\"df-1f3a74b8-8e84-4385-970b-8aba02ff02b3\">\n",
              "  <button class=\"colab-df-quickchart\" onclick=\"quickchart('df-1f3a74b8-8e84-4385-970b-8aba02ff02b3')\"\n",
              "            title=\"Suggest charts\"\n",
              "            style=\"display:none;\">\n",
              "\n",
              "<svg xmlns=\"http://www.w3.org/2000/svg\" height=\"24px\"viewBox=\"0 0 24 24\"\n",
              "     width=\"24px\">\n",
              "    <g>\n",
              "        <path d=\"M19 3H5c-1.1 0-2 .9-2 2v14c0 1.1.9 2 2 2h14c1.1 0 2-.9 2-2V5c0-1.1-.9-2-2-2zM9 17H7v-7h2v7zm4 0h-2V7h2v10zm4 0h-2v-4h2v4z\"/>\n",
              "    </g>\n",
              "</svg>\n",
              "  </button>\n",
              "\n",
              "<style>\n",
              "  .colab-df-quickchart {\n",
              "      --bg-color: #E8F0FE;\n",
              "      --fill-color: #1967D2;\n",
              "      --hover-bg-color: #E2EBFA;\n",
              "      --hover-fill-color: #174EA6;\n",
              "      --disabled-fill-color: #AAA;\n",
              "      --disabled-bg-color: #DDD;\n",
              "  }\n",
              "\n",
              "  [theme=dark] .colab-df-quickchart {\n",
              "      --bg-color: #3B4455;\n",
              "      --fill-color: #D2E3FC;\n",
              "      --hover-bg-color: #434B5C;\n",
              "      --hover-fill-color: #FFFFFF;\n",
              "      --disabled-bg-color: #3B4455;\n",
              "      --disabled-fill-color: #666;\n",
              "  }\n",
              "\n",
              "  .colab-df-quickchart {\n",
              "    background-color: var(--bg-color);\n",
              "    border: none;\n",
              "    border-radius: 50%;\n",
              "    cursor: pointer;\n",
              "    display: none;\n",
              "    fill: var(--fill-color);\n",
              "    height: 32px;\n",
              "    padding: 0;\n",
              "    width: 32px;\n",
              "  }\n",
              "\n",
              "  .colab-df-quickchart:hover {\n",
              "    background-color: var(--hover-bg-color);\n",
              "    box-shadow: 0 1px 2px rgba(60, 64, 67, 0.3), 0 1px 3px 1px rgba(60, 64, 67, 0.15);\n",
              "    fill: var(--button-hover-fill-color);\n",
              "  }\n",
              "\n",
              "  .colab-df-quickchart-complete:disabled,\n",
              "  .colab-df-quickchart-complete:disabled:hover {\n",
              "    background-color: var(--disabled-bg-color);\n",
              "    fill: var(--disabled-fill-color);\n",
              "    box-shadow: none;\n",
              "  }\n",
              "\n",
              "  .colab-df-spinner {\n",
              "    border: 2px solid var(--fill-color);\n",
              "    border-color: transparent;\n",
              "    border-bottom-color: var(--fill-color);\n",
              "    animation:\n",
              "      spin 1s steps(1) infinite;\n",
              "  }\n",
              "\n",
              "  @keyframes spin {\n",
              "    0% {\n",
              "      border-color: transparent;\n",
              "      border-bottom-color: var(--fill-color);\n",
              "      border-left-color: var(--fill-color);\n",
              "    }\n",
              "    20% {\n",
              "      border-color: transparent;\n",
              "      border-left-color: var(--fill-color);\n",
              "      border-top-color: var(--fill-color);\n",
              "    }\n",
              "    30% {\n",
              "      border-color: transparent;\n",
              "      border-left-color: var(--fill-color);\n",
              "      border-top-color: var(--fill-color);\n",
              "      border-right-color: var(--fill-color);\n",
              "    }\n",
              "    40% {\n",
              "      border-color: transparent;\n",
              "      border-right-color: var(--fill-color);\n",
              "      border-top-color: var(--fill-color);\n",
              "    }\n",
              "    60% {\n",
              "      border-color: transparent;\n",
              "      border-right-color: var(--fill-color);\n",
              "    }\n",
              "    80% {\n",
              "      border-color: transparent;\n",
              "      border-right-color: var(--fill-color);\n",
              "      border-bottom-color: var(--fill-color);\n",
              "    }\n",
              "    90% {\n",
              "      border-color: transparent;\n",
              "      border-bottom-color: var(--fill-color);\n",
              "    }\n",
              "  }\n",
              "</style>\n",
              "\n",
              "  <script>\n",
              "    async function quickchart(key) {\n",
              "      const quickchartButtonEl =\n",
              "        document.querySelector('#' + key + ' button');\n",
              "      quickchartButtonEl.disabled = true;  // To prevent multiple clicks.\n",
              "      quickchartButtonEl.classList.add('colab-df-spinner');\n",
              "      try {\n",
              "        const charts = await google.colab.kernel.invokeFunction(\n",
              "            'suggestCharts', [key], {});\n",
              "      } catch (error) {\n",
              "        console.error('Error during call to suggestCharts:', error);\n",
              "      }\n",
              "      quickchartButtonEl.classList.remove('colab-df-spinner');\n",
              "      quickchartButtonEl.classList.add('colab-df-quickchart-complete');\n",
              "    }\n",
              "    (() => {\n",
              "      let quickchartButtonEl =\n",
              "        document.querySelector('#df-1f3a74b8-8e84-4385-970b-8aba02ff02b3 button');\n",
              "      quickchartButtonEl.style.display =\n",
              "        google.colab.kernel.accessAllowed ? 'block' : 'none';\n",
              "    })();\n",
              "  </script>\n",
              "</div>\n",
              "\n",
              "  <div id=\"id_b8788998-8099-4a0d-b846-7c6495af5c49\">\n",
              "    <style>\n",
              "      .colab-df-generate {\n",
              "        background-color: #E8F0FE;\n",
              "        border: none;\n",
              "        border-radius: 50%;\n",
              "        cursor: pointer;\n",
              "        display: none;\n",
              "        fill: #1967D2;\n",
              "        height: 32px;\n",
              "        padding: 0 0 0 0;\n",
              "        width: 32px;\n",
              "      }\n",
              "\n",
              "      .colab-df-generate:hover {\n",
              "        background-color: #E2EBFA;\n",
              "        box-shadow: 0px 1px 2px rgba(60, 64, 67, 0.3), 0px 1px 3px 1px rgba(60, 64, 67, 0.15);\n",
              "        fill: #174EA6;\n",
              "      }\n",
              "\n",
              "      [theme=dark] .colab-df-generate {\n",
              "        background-color: #3B4455;\n",
              "        fill: #D2E3FC;\n",
              "      }\n",
              "\n",
              "      [theme=dark] .colab-df-generate:hover {\n",
              "        background-color: #434B5C;\n",
              "        box-shadow: 0px 1px 3px 1px rgba(0, 0, 0, 0.15);\n",
              "        filter: drop-shadow(0px 1px 2px rgba(0, 0, 0, 0.3));\n",
              "        fill: #FFFFFF;\n",
              "      }\n",
              "    </style>\n",
              "    <button class=\"colab-df-generate\" onclick=\"generateWithVariable('data')\"\n",
              "            title=\"Generate code using this dataframe.\"\n",
              "            style=\"display:none;\">\n",
              "\n",
              "  <svg xmlns=\"http://www.w3.org/2000/svg\" height=\"24px\"viewBox=\"0 0 24 24\"\n",
              "       width=\"24px\">\n",
              "    <path d=\"M7,19H8.4L18.45,9,17,7.55,7,17.6ZM5,21V16.75L18.45,3.32a2,2,0,0,1,2.83,0l1.4,1.43a1.91,1.91,0,0,1,.58,1.4,1.91,1.91,0,0,1-.58,1.4L9.25,21ZM18.45,9,17,7.55Zm-12,3A5.31,5.31,0,0,0,4.9,8.1,5.31,5.31,0,0,0,1,6.5,5.31,5.31,0,0,0,4.9,4.9,5.31,5.31,0,0,0,6.5,1,5.31,5.31,0,0,0,8.1,4.9,5.31,5.31,0,0,0,12,6.5,5.46,5.46,0,0,0,6.5,12Z\"/>\n",
              "  </svg>\n",
              "    </button>\n",
              "    <script>\n",
              "      (() => {\n",
              "      const buttonEl =\n",
              "        document.querySelector('#id_b8788998-8099-4a0d-b846-7c6495af5c49 button.colab-df-generate');\n",
              "      buttonEl.style.display =\n",
              "        google.colab.kernel.accessAllowed ? 'block' : 'none';\n",
              "\n",
              "      buttonEl.onclick = () => {\n",
              "        google.colab.notebook.generateWithVariable('data');\n",
              "      }\n",
              "      })();\n",
              "    </script>\n",
              "  </div>\n",
              "\n",
              "    </div>\n",
              "  </div>\n"
            ],
            "application/vnd.google.colaboratory.intrinsic+json": {
              "type": "dataframe",
              "variable_name": "data"
            }
          },
          "metadata": {},
          "execution_count": 4
        }
      ]
    },
    {
      "cell_type": "code",
      "source": [
        "WT_Tm = data[['PDBid','Tmexp [wt]']]\n",
        "WT_Tm.set_index('PDBid',inplace=True)\n",
        "WT_Tm"
      ],
      "metadata": {
        "colab": {
          "base_uri": "https://localhost:8080/",
          "height": 455
        },
        "id": "21OQ9gmUuhw8",
        "outputId": "2c2356f5-f101-43a2-de69-64f32f8ece70"
      },
      "execution_count": null,
      "outputs": [
        {
          "output_type": "execute_result",
          "data": {
            "text/plain": [
              "           Tmexp [wt]\n",
              "PDBid                \n",
              "1aky             47.6\n",
              "1aky             47.6\n",
              "1aky             47.6\n",
              "1aky             47.6\n",
              "1aky             47.6\n",
              "...               ...\n",
              "5pti_m52l        91.7\n",
              "5pti_m52l        91.7\n",
              "5pti_m52l        91.7\n",
              "5pti_m52l        91.7\n",
              "5pti_m52l        91.7\n",
              "\n",
              "[1626 rows x 1 columns]"
            ],
            "text/html": [
              "\n",
              "  <div id=\"df-c3e2dd74-f5a1-4100-897b-64fdd3f5cf00\" class=\"colab-df-container\">\n",
              "    <div>\n",
              "<style scoped>\n",
              "    .dataframe tbody tr th:only-of-type {\n",
              "        vertical-align: middle;\n",
              "    }\n",
              "\n",
              "    .dataframe tbody tr th {\n",
              "        vertical-align: top;\n",
              "    }\n",
              "\n",
              "    .dataframe thead th {\n",
              "        text-align: right;\n",
              "    }\n",
              "</style>\n",
              "<table border=\"1\" class=\"dataframe\">\n",
              "  <thead>\n",
              "    <tr style=\"text-align: right;\">\n",
              "      <th></th>\n",
              "      <th>Tmexp [wt]</th>\n",
              "    </tr>\n",
              "    <tr>\n",
              "      <th>PDBid</th>\n",
              "      <th></th>\n",
              "    </tr>\n",
              "  </thead>\n",
              "  <tbody>\n",
              "    <tr>\n",
              "      <th>1aky</th>\n",
              "      <td>47.6</td>\n",
              "    </tr>\n",
              "    <tr>\n",
              "      <th>1aky</th>\n",
              "      <td>47.6</td>\n",
              "    </tr>\n",
              "    <tr>\n",
              "      <th>1aky</th>\n",
              "      <td>47.6</td>\n",
              "    </tr>\n",
              "    <tr>\n",
              "      <th>1aky</th>\n",
              "      <td>47.6</td>\n",
              "    </tr>\n",
              "    <tr>\n",
              "      <th>1aky</th>\n",
              "      <td>47.6</td>\n",
              "    </tr>\n",
              "    <tr>\n",
              "      <th>...</th>\n",
              "      <td>...</td>\n",
              "    </tr>\n",
              "    <tr>\n",
              "      <th>5pti_m52l</th>\n",
              "      <td>91.7</td>\n",
              "    </tr>\n",
              "    <tr>\n",
              "      <th>5pti_m52l</th>\n",
              "      <td>91.7</td>\n",
              "    </tr>\n",
              "    <tr>\n",
              "      <th>5pti_m52l</th>\n",
              "      <td>91.7</td>\n",
              "    </tr>\n",
              "    <tr>\n",
              "      <th>5pti_m52l</th>\n",
              "      <td>91.7</td>\n",
              "    </tr>\n",
              "    <tr>\n",
              "      <th>5pti_m52l</th>\n",
              "      <td>91.7</td>\n",
              "    </tr>\n",
              "  </tbody>\n",
              "</table>\n",
              "<p>1626 rows × 1 columns</p>\n",
              "</div>\n",
              "    <div class=\"colab-df-buttons\">\n",
              "\n",
              "  <div class=\"colab-df-container\">\n",
              "    <button class=\"colab-df-convert\" onclick=\"convertToInteractive('df-c3e2dd74-f5a1-4100-897b-64fdd3f5cf00')\"\n",
              "            title=\"Convert this dataframe to an interactive table.\"\n",
              "            style=\"display:none;\">\n",
              "\n",
              "  <svg xmlns=\"http://www.w3.org/2000/svg\" height=\"24px\" viewBox=\"0 -960 960 960\">\n",
              "    <path d=\"M120-120v-720h720v720H120Zm60-500h600v-160H180v160Zm220 220h160v-160H400v160Zm0 220h160v-160H400v160ZM180-400h160v-160H180v160Zm440 0h160v-160H620v160ZM180-180h160v-160H180v160Zm440 0h160v-160H620v160Z\"/>\n",
              "  </svg>\n",
              "    </button>\n",
              "\n",
              "  <style>\n",
              "    .colab-df-container {\n",
              "      display:flex;\n",
              "      gap: 12px;\n",
              "    }\n",
              "\n",
              "    .colab-df-convert {\n",
              "      background-color: #E8F0FE;\n",
              "      border: none;\n",
              "      border-radius: 50%;\n",
              "      cursor: pointer;\n",
              "      display: none;\n",
              "      fill: #1967D2;\n",
              "      height: 32px;\n",
              "      padding: 0 0 0 0;\n",
              "      width: 32px;\n",
              "    }\n",
              "\n",
              "    .colab-df-convert:hover {\n",
              "      background-color: #E2EBFA;\n",
              "      box-shadow: 0px 1px 2px rgba(60, 64, 67, 0.3), 0px 1px 3px 1px rgba(60, 64, 67, 0.15);\n",
              "      fill: #174EA6;\n",
              "    }\n",
              "\n",
              "    .colab-df-buttons div {\n",
              "      margin-bottom: 4px;\n",
              "    }\n",
              "\n",
              "    [theme=dark] .colab-df-convert {\n",
              "      background-color: #3B4455;\n",
              "      fill: #D2E3FC;\n",
              "    }\n",
              "\n",
              "    [theme=dark] .colab-df-convert:hover {\n",
              "      background-color: #434B5C;\n",
              "      box-shadow: 0px 1px 3px 1px rgba(0, 0, 0, 0.15);\n",
              "      filter: drop-shadow(0px 1px 2px rgba(0, 0, 0, 0.3));\n",
              "      fill: #FFFFFF;\n",
              "    }\n",
              "  </style>\n",
              "\n",
              "    <script>\n",
              "      const buttonEl =\n",
              "        document.querySelector('#df-c3e2dd74-f5a1-4100-897b-64fdd3f5cf00 button.colab-df-convert');\n",
              "      buttonEl.style.display =\n",
              "        google.colab.kernel.accessAllowed ? 'block' : 'none';\n",
              "\n",
              "      async function convertToInteractive(key) {\n",
              "        const element = document.querySelector('#df-c3e2dd74-f5a1-4100-897b-64fdd3f5cf00');\n",
              "        const dataTable =\n",
              "          await google.colab.kernel.invokeFunction('convertToInteractive',\n",
              "                                                    [key], {});\n",
              "        if (!dataTable) return;\n",
              "\n",
              "        const docLinkHtml = 'Like what you see? Visit the ' +\n",
              "          '<a target=\"_blank\" href=https://colab.research.google.com/notebooks/data_table.ipynb>data table notebook</a>'\n",
              "          + ' to learn more about interactive tables.';\n",
              "        element.innerHTML = '';\n",
              "        dataTable['output_type'] = 'display_data';\n",
              "        await google.colab.output.renderOutput(dataTable, element);\n",
              "        const docLink = document.createElement('div');\n",
              "        docLink.innerHTML = docLinkHtml;\n",
              "        element.appendChild(docLink);\n",
              "      }\n",
              "    </script>\n",
              "  </div>\n",
              "\n",
              "\n",
              "<div id=\"df-8e622c40-287b-4150-bfec-87473dca50d4\">\n",
              "  <button class=\"colab-df-quickchart\" onclick=\"quickchart('df-8e622c40-287b-4150-bfec-87473dca50d4')\"\n",
              "            title=\"Suggest charts\"\n",
              "            style=\"display:none;\">\n",
              "\n",
              "<svg xmlns=\"http://www.w3.org/2000/svg\" height=\"24px\"viewBox=\"0 0 24 24\"\n",
              "     width=\"24px\">\n",
              "    <g>\n",
              "        <path d=\"M19 3H5c-1.1 0-2 .9-2 2v14c0 1.1.9 2 2 2h14c1.1 0 2-.9 2-2V5c0-1.1-.9-2-2-2zM9 17H7v-7h2v7zm4 0h-2V7h2v10zm4 0h-2v-4h2v4z\"/>\n",
              "    </g>\n",
              "</svg>\n",
              "  </button>\n",
              "\n",
              "<style>\n",
              "  .colab-df-quickchart {\n",
              "      --bg-color: #E8F0FE;\n",
              "      --fill-color: #1967D2;\n",
              "      --hover-bg-color: #E2EBFA;\n",
              "      --hover-fill-color: #174EA6;\n",
              "      --disabled-fill-color: #AAA;\n",
              "      --disabled-bg-color: #DDD;\n",
              "  }\n",
              "\n",
              "  [theme=dark] .colab-df-quickchart {\n",
              "      --bg-color: #3B4455;\n",
              "      --fill-color: #D2E3FC;\n",
              "      --hover-bg-color: #434B5C;\n",
              "      --hover-fill-color: #FFFFFF;\n",
              "      --disabled-bg-color: #3B4455;\n",
              "      --disabled-fill-color: #666;\n",
              "  }\n",
              "\n",
              "  .colab-df-quickchart {\n",
              "    background-color: var(--bg-color);\n",
              "    border: none;\n",
              "    border-radius: 50%;\n",
              "    cursor: pointer;\n",
              "    display: none;\n",
              "    fill: var(--fill-color);\n",
              "    height: 32px;\n",
              "    padding: 0;\n",
              "    width: 32px;\n",
              "  }\n",
              "\n",
              "  .colab-df-quickchart:hover {\n",
              "    background-color: var(--hover-bg-color);\n",
              "    box-shadow: 0 1px 2px rgba(60, 64, 67, 0.3), 0 1px 3px 1px rgba(60, 64, 67, 0.15);\n",
              "    fill: var(--button-hover-fill-color);\n",
              "  }\n",
              "\n",
              "  .colab-df-quickchart-complete:disabled,\n",
              "  .colab-df-quickchart-complete:disabled:hover {\n",
              "    background-color: var(--disabled-bg-color);\n",
              "    fill: var(--disabled-fill-color);\n",
              "    box-shadow: none;\n",
              "  }\n",
              "\n",
              "  .colab-df-spinner {\n",
              "    border: 2px solid var(--fill-color);\n",
              "    border-color: transparent;\n",
              "    border-bottom-color: var(--fill-color);\n",
              "    animation:\n",
              "      spin 1s steps(1) infinite;\n",
              "  }\n",
              "\n",
              "  @keyframes spin {\n",
              "    0% {\n",
              "      border-color: transparent;\n",
              "      border-bottom-color: var(--fill-color);\n",
              "      border-left-color: var(--fill-color);\n",
              "    }\n",
              "    20% {\n",
              "      border-color: transparent;\n",
              "      border-left-color: var(--fill-color);\n",
              "      border-top-color: var(--fill-color);\n",
              "    }\n",
              "    30% {\n",
              "      border-color: transparent;\n",
              "      border-left-color: var(--fill-color);\n",
              "      border-top-color: var(--fill-color);\n",
              "      border-right-color: var(--fill-color);\n",
              "    }\n",
              "    40% {\n",
              "      border-color: transparent;\n",
              "      border-right-color: var(--fill-color);\n",
              "      border-top-color: var(--fill-color);\n",
              "    }\n",
              "    60% {\n",
              "      border-color: transparent;\n",
              "      border-right-color: var(--fill-color);\n",
              "    }\n",
              "    80% {\n",
              "      border-color: transparent;\n",
              "      border-right-color: var(--fill-color);\n",
              "      border-bottom-color: var(--fill-color);\n",
              "    }\n",
              "    90% {\n",
              "      border-color: transparent;\n",
              "      border-bottom-color: var(--fill-color);\n",
              "    }\n",
              "  }\n",
              "</style>\n",
              "\n",
              "  <script>\n",
              "    async function quickchart(key) {\n",
              "      const quickchartButtonEl =\n",
              "        document.querySelector('#' + key + ' button');\n",
              "      quickchartButtonEl.disabled = true;  // To prevent multiple clicks.\n",
              "      quickchartButtonEl.classList.add('colab-df-spinner');\n",
              "      try {\n",
              "        const charts = await google.colab.kernel.invokeFunction(\n",
              "            'suggestCharts', [key], {});\n",
              "      } catch (error) {\n",
              "        console.error('Error during call to suggestCharts:', error);\n",
              "      }\n",
              "      quickchartButtonEl.classList.remove('colab-df-spinner');\n",
              "      quickchartButtonEl.classList.add('colab-df-quickchart-complete');\n",
              "    }\n",
              "    (() => {\n",
              "      let quickchartButtonEl =\n",
              "        document.querySelector('#df-8e622c40-287b-4150-bfec-87473dca50d4 button');\n",
              "      quickchartButtonEl.style.display =\n",
              "        google.colab.kernel.accessAllowed ? 'block' : 'none';\n",
              "    })();\n",
              "  </script>\n",
              "</div>\n",
              "\n",
              "  <div id=\"id_d807d46b-03f1-49ba-9311-9d362437e2e8\">\n",
              "    <style>\n",
              "      .colab-df-generate {\n",
              "        background-color: #E8F0FE;\n",
              "        border: none;\n",
              "        border-radius: 50%;\n",
              "        cursor: pointer;\n",
              "        display: none;\n",
              "        fill: #1967D2;\n",
              "        height: 32px;\n",
              "        padding: 0 0 0 0;\n",
              "        width: 32px;\n",
              "      }\n",
              "\n",
              "      .colab-df-generate:hover {\n",
              "        background-color: #E2EBFA;\n",
              "        box-shadow: 0px 1px 2px rgba(60, 64, 67, 0.3), 0px 1px 3px 1px rgba(60, 64, 67, 0.15);\n",
              "        fill: #174EA6;\n",
              "      }\n",
              "\n",
              "      [theme=dark] .colab-df-generate {\n",
              "        background-color: #3B4455;\n",
              "        fill: #D2E3FC;\n",
              "      }\n",
              "\n",
              "      [theme=dark] .colab-df-generate:hover {\n",
              "        background-color: #434B5C;\n",
              "        box-shadow: 0px 1px 3px 1px rgba(0, 0, 0, 0.15);\n",
              "        filter: drop-shadow(0px 1px 2px rgba(0, 0, 0, 0.3));\n",
              "        fill: #FFFFFF;\n",
              "      }\n",
              "    </style>\n",
              "    <button class=\"colab-df-generate\" onclick=\"generateWithVariable('WT_Tm')\"\n",
              "            title=\"Generate code using this dataframe.\"\n",
              "            style=\"display:none;\">\n",
              "\n",
              "  <svg xmlns=\"http://www.w3.org/2000/svg\" height=\"24px\"viewBox=\"0 0 24 24\"\n",
              "       width=\"24px\">\n",
              "    <path d=\"M7,19H8.4L18.45,9,17,7.55,7,17.6ZM5,21V16.75L18.45,3.32a2,2,0,0,1,2.83,0l1.4,1.43a1.91,1.91,0,0,1,.58,1.4,1.91,1.91,0,0,1-.58,1.4L9.25,21ZM18.45,9,17,7.55Zm-12,3A5.31,5.31,0,0,0,4.9,8.1,5.31,5.31,0,0,0,1,6.5,5.31,5.31,0,0,0,4.9,4.9,5.31,5.31,0,0,0,6.5,1,5.31,5.31,0,0,0,8.1,4.9,5.31,5.31,0,0,0,12,6.5,5.46,5.46,0,0,0,6.5,12Z\"/>\n",
              "  </svg>\n",
              "    </button>\n",
              "    <script>\n",
              "      (() => {\n",
              "      const buttonEl =\n",
              "        document.querySelector('#id_d807d46b-03f1-49ba-9311-9d362437e2e8 button.colab-df-generate');\n",
              "      buttonEl.style.display =\n",
              "        google.colab.kernel.accessAllowed ? 'block' : 'none';\n",
              "\n",
              "      buttonEl.onclick = () => {\n",
              "        google.colab.notebook.generateWithVariable('WT_Tm');\n",
              "      }\n",
              "      })();\n",
              "    </script>\n",
              "  </div>\n",
              "\n",
              "    </div>\n",
              "  </div>\n"
            ],
            "application/vnd.google.colaboratory.intrinsic+json": {
              "type": "dataframe",
              "variable_name": "WT_Tm",
              "summary": "{\n  \"name\": \"WT_Tm\",\n  \"rows\": 1626,\n  \"fields\": [\n    {\n      \"column\": \"PDBid\",\n      \"properties\": {\n        \"dtype\": \"category\",\n        \"num_unique_values\": 101,\n        \"samples\": [\n          \"2hip\",\n          \"1rbp\",\n          \"1ttq\"\n        ],\n        \"semantic_type\": \"\",\n        \"description\": \"\"\n      }\n    },\n    {\n      \"column\": \"Tmexp [wt]\",\n      \"properties\": {\n        \"dtype\": \"number\",\n        \"std\": 12.071078840483429,\n        \"min\": 34.8,\n        \"max\": 138.8,\n        \"num_unique_values\": 89,\n        \"samples\": [\n          51.0,\n          53.6,\n          54.4\n        ],\n        \"semantic_type\": \"\",\n        \"description\": \"\"\n      }\n    }\n  ]\n}"
            }
          },
          "metadata": {},
          "execution_count": 5
        }
      ]
    },
    {
      "cell_type": "code",
      "source": [
        "dict_WT_TM = {}\n",
        "for k,v in WT_Tm.itertuples():\n",
        "    if(k not in dict_WT_TM):\n",
        "        dict_WT_TM[k]=float(v)"
      ],
      "metadata": {
        "id": "kz-XyoTFurEg"
      },
      "execution_count": null,
      "outputs": []
    },
    {
      "cell_type": "code",
      "source": [
        "pdbs = data[data['PDBid'].str.len()<5]\n",
        "pdbs = pdbs[pdbs['Chain'] == \"A\"]\n",
        "pdbs[['RESN','RESwt','RESmut']]"
      ],
      "metadata": {
        "colab": {
          "base_uri": "https://localhost:8080/",
          "height": 424
        },
        "id": "1_mNe-o-usmh",
        "outputId": "30ef0206-971a-465d-c313-30a19ff5ddd1"
      },
      "execution_count": null,
      "outputs": [
        {
          "output_type": "execute_result",
          "data": {
            "text/plain": [
              "      RESN RESwt RESmut\n",
              "0        8   VAL    ILE\n",
              "1       48   GLN    GLU\n",
              "2       77   THR    HIS\n",
              "3      110   THR    HIS\n",
              "4      169   ASN    ASP\n",
              "...    ...   ...    ...\n",
              "1604    36   GLY    ALA\n",
              "1605    36   GLY    SER\n",
              "1606    37   GLY    ALA\n",
              "1607    39   ARG    ALA\n",
              "1608    46   LYS    ALA\n",
              "\n",
              "[1509 rows x 3 columns]"
            ],
            "text/html": [
              "\n",
              "  <div id=\"df-021c5dd7-c374-4f33-b76d-ef17c82f7687\" class=\"colab-df-container\">\n",
              "    <div>\n",
              "<style scoped>\n",
              "    .dataframe tbody tr th:only-of-type {\n",
              "        vertical-align: middle;\n",
              "    }\n",
              "\n",
              "    .dataframe tbody tr th {\n",
              "        vertical-align: top;\n",
              "    }\n",
              "\n",
              "    .dataframe thead th {\n",
              "        text-align: right;\n",
              "    }\n",
              "</style>\n",
              "<table border=\"1\" class=\"dataframe\">\n",
              "  <thead>\n",
              "    <tr style=\"text-align: right;\">\n",
              "      <th></th>\n",
              "      <th>RESN</th>\n",
              "      <th>RESwt</th>\n",
              "      <th>RESmut</th>\n",
              "    </tr>\n",
              "  </thead>\n",
              "  <tbody>\n",
              "    <tr>\n",
              "      <th>0</th>\n",
              "      <td>8</td>\n",
              "      <td>VAL</td>\n",
              "      <td>ILE</td>\n",
              "    </tr>\n",
              "    <tr>\n",
              "      <th>1</th>\n",
              "      <td>48</td>\n",
              "      <td>GLN</td>\n",
              "      <td>GLU</td>\n",
              "    </tr>\n",
              "    <tr>\n",
              "      <th>2</th>\n",
              "      <td>77</td>\n",
              "      <td>THR</td>\n",
              "      <td>HIS</td>\n",
              "    </tr>\n",
              "    <tr>\n",
              "      <th>3</th>\n",
              "      <td>110</td>\n",
              "      <td>THR</td>\n",
              "      <td>HIS</td>\n",
              "    </tr>\n",
              "    <tr>\n",
              "      <th>4</th>\n",
              "      <td>169</td>\n",
              "      <td>ASN</td>\n",
              "      <td>ASP</td>\n",
              "    </tr>\n",
              "    <tr>\n",
              "      <th>...</th>\n",
              "      <td>...</td>\n",
              "      <td>...</td>\n",
              "      <td>...</td>\n",
              "    </tr>\n",
              "    <tr>\n",
              "      <th>1604</th>\n",
              "      <td>36</td>\n",
              "      <td>GLY</td>\n",
              "      <td>ALA</td>\n",
              "    </tr>\n",
              "    <tr>\n",
              "      <th>1605</th>\n",
              "      <td>36</td>\n",
              "      <td>GLY</td>\n",
              "      <td>SER</td>\n",
              "    </tr>\n",
              "    <tr>\n",
              "      <th>1606</th>\n",
              "      <td>37</td>\n",
              "      <td>GLY</td>\n",
              "      <td>ALA</td>\n",
              "    </tr>\n",
              "    <tr>\n",
              "      <th>1607</th>\n",
              "      <td>39</td>\n",
              "      <td>ARG</td>\n",
              "      <td>ALA</td>\n",
              "    </tr>\n",
              "    <tr>\n",
              "      <th>1608</th>\n",
              "      <td>46</td>\n",
              "      <td>LYS</td>\n",
              "      <td>ALA</td>\n",
              "    </tr>\n",
              "  </tbody>\n",
              "</table>\n",
              "<p>1509 rows × 3 columns</p>\n",
              "</div>\n",
              "    <div class=\"colab-df-buttons\">\n",
              "\n",
              "  <div class=\"colab-df-container\">\n",
              "    <button class=\"colab-df-convert\" onclick=\"convertToInteractive('df-021c5dd7-c374-4f33-b76d-ef17c82f7687')\"\n",
              "            title=\"Convert this dataframe to an interactive table.\"\n",
              "            style=\"display:none;\">\n",
              "\n",
              "  <svg xmlns=\"http://www.w3.org/2000/svg\" height=\"24px\" viewBox=\"0 -960 960 960\">\n",
              "    <path d=\"M120-120v-720h720v720H120Zm60-500h600v-160H180v160Zm220 220h160v-160H400v160Zm0 220h160v-160H400v160ZM180-400h160v-160H180v160Zm440 0h160v-160H620v160ZM180-180h160v-160H180v160Zm440 0h160v-160H620v160Z\"/>\n",
              "  </svg>\n",
              "    </button>\n",
              "\n",
              "  <style>\n",
              "    .colab-df-container {\n",
              "      display:flex;\n",
              "      gap: 12px;\n",
              "    }\n",
              "\n",
              "    .colab-df-convert {\n",
              "      background-color: #E8F0FE;\n",
              "      border: none;\n",
              "      border-radius: 50%;\n",
              "      cursor: pointer;\n",
              "      display: none;\n",
              "      fill: #1967D2;\n",
              "      height: 32px;\n",
              "      padding: 0 0 0 0;\n",
              "      width: 32px;\n",
              "    }\n",
              "\n",
              "    .colab-df-convert:hover {\n",
              "      background-color: #E2EBFA;\n",
              "      box-shadow: 0px 1px 2px rgba(60, 64, 67, 0.3), 0px 1px 3px 1px rgba(60, 64, 67, 0.15);\n",
              "      fill: #174EA6;\n",
              "    }\n",
              "\n",
              "    .colab-df-buttons div {\n",
              "      margin-bottom: 4px;\n",
              "    }\n",
              "\n",
              "    [theme=dark] .colab-df-convert {\n",
              "      background-color: #3B4455;\n",
              "      fill: #D2E3FC;\n",
              "    }\n",
              "\n",
              "    [theme=dark] .colab-df-convert:hover {\n",
              "      background-color: #434B5C;\n",
              "      box-shadow: 0px 1px 3px 1px rgba(0, 0, 0, 0.15);\n",
              "      filter: drop-shadow(0px 1px 2px rgba(0, 0, 0, 0.3));\n",
              "      fill: #FFFFFF;\n",
              "    }\n",
              "  </style>\n",
              "\n",
              "    <script>\n",
              "      const buttonEl =\n",
              "        document.querySelector('#df-021c5dd7-c374-4f33-b76d-ef17c82f7687 button.colab-df-convert');\n",
              "      buttonEl.style.display =\n",
              "        google.colab.kernel.accessAllowed ? 'block' : 'none';\n",
              "\n",
              "      async function convertToInteractive(key) {\n",
              "        const element = document.querySelector('#df-021c5dd7-c374-4f33-b76d-ef17c82f7687');\n",
              "        const dataTable =\n",
              "          await google.colab.kernel.invokeFunction('convertToInteractive',\n",
              "                                                    [key], {});\n",
              "        if (!dataTable) return;\n",
              "\n",
              "        const docLinkHtml = 'Like what you see? Visit the ' +\n",
              "          '<a target=\"_blank\" href=https://colab.research.google.com/notebooks/data_table.ipynb>data table notebook</a>'\n",
              "          + ' to learn more about interactive tables.';\n",
              "        element.innerHTML = '';\n",
              "        dataTable['output_type'] = 'display_data';\n",
              "        await google.colab.output.renderOutput(dataTable, element);\n",
              "        const docLink = document.createElement('div');\n",
              "        docLink.innerHTML = docLinkHtml;\n",
              "        element.appendChild(docLink);\n",
              "      }\n",
              "    </script>\n",
              "  </div>\n",
              "\n",
              "\n",
              "<div id=\"df-d946e921-1193-4aa6-9998-66225f1bfb94\">\n",
              "  <button class=\"colab-df-quickchart\" onclick=\"quickchart('df-d946e921-1193-4aa6-9998-66225f1bfb94')\"\n",
              "            title=\"Suggest charts\"\n",
              "            style=\"display:none;\">\n",
              "\n",
              "<svg xmlns=\"http://www.w3.org/2000/svg\" height=\"24px\"viewBox=\"0 0 24 24\"\n",
              "     width=\"24px\">\n",
              "    <g>\n",
              "        <path d=\"M19 3H5c-1.1 0-2 .9-2 2v14c0 1.1.9 2 2 2h14c1.1 0 2-.9 2-2V5c0-1.1-.9-2-2-2zM9 17H7v-7h2v7zm4 0h-2V7h2v10zm4 0h-2v-4h2v4z\"/>\n",
              "    </g>\n",
              "</svg>\n",
              "  </button>\n",
              "\n",
              "<style>\n",
              "  .colab-df-quickchart {\n",
              "      --bg-color: #E8F0FE;\n",
              "      --fill-color: #1967D2;\n",
              "      --hover-bg-color: #E2EBFA;\n",
              "      --hover-fill-color: #174EA6;\n",
              "      --disabled-fill-color: #AAA;\n",
              "      --disabled-bg-color: #DDD;\n",
              "  }\n",
              "\n",
              "  [theme=dark] .colab-df-quickchart {\n",
              "      --bg-color: #3B4455;\n",
              "      --fill-color: #D2E3FC;\n",
              "      --hover-bg-color: #434B5C;\n",
              "      --hover-fill-color: #FFFFFF;\n",
              "      --disabled-bg-color: #3B4455;\n",
              "      --disabled-fill-color: #666;\n",
              "  }\n",
              "\n",
              "  .colab-df-quickchart {\n",
              "    background-color: var(--bg-color);\n",
              "    border: none;\n",
              "    border-radius: 50%;\n",
              "    cursor: pointer;\n",
              "    display: none;\n",
              "    fill: var(--fill-color);\n",
              "    height: 32px;\n",
              "    padding: 0;\n",
              "    width: 32px;\n",
              "  }\n",
              "\n",
              "  .colab-df-quickchart:hover {\n",
              "    background-color: var(--hover-bg-color);\n",
              "    box-shadow: 0 1px 2px rgba(60, 64, 67, 0.3), 0 1px 3px 1px rgba(60, 64, 67, 0.15);\n",
              "    fill: var(--button-hover-fill-color);\n",
              "  }\n",
              "\n",
              "  .colab-df-quickchart-complete:disabled,\n",
              "  .colab-df-quickchart-complete:disabled:hover {\n",
              "    background-color: var(--disabled-bg-color);\n",
              "    fill: var(--disabled-fill-color);\n",
              "    box-shadow: none;\n",
              "  }\n",
              "\n",
              "  .colab-df-spinner {\n",
              "    border: 2px solid var(--fill-color);\n",
              "    border-color: transparent;\n",
              "    border-bottom-color: var(--fill-color);\n",
              "    animation:\n",
              "      spin 1s steps(1) infinite;\n",
              "  }\n",
              "\n",
              "  @keyframes spin {\n",
              "    0% {\n",
              "      border-color: transparent;\n",
              "      border-bottom-color: var(--fill-color);\n",
              "      border-left-color: var(--fill-color);\n",
              "    }\n",
              "    20% {\n",
              "      border-color: transparent;\n",
              "      border-left-color: var(--fill-color);\n",
              "      border-top-color: var(--fill-color);\n",
              "    }\n",
              "    30% {\n",
              "      border-color: transparent;\n",
              "      border-left-color: var(--fill-color);\n",
              "      border-top-color: var(--fill-color);\n",
              "      border-right-color: var(--fill-color);\n",
              "    }\n",
              "    40% {\n",
              "      border-color: transparent;\n",
              "      border-right-color: var(--fill-color);\n",
              "      border-top-color: var(--fill-color);\n",
              "    }\n",
              "    60% {\n",
              "      border-color: transparent;\n",
              "      border-right-color: var(--fill-color);\n",
              "    }\n",
              "    80% {\n",
              "      border-color: transparent;\n",
              "      border-right-color: var(--fill-color);\n",
              "      border-bottom-color: var(--fill-color);\n",
              "    }\n",
              "    90% {\n",
              "      border-color: transparent;\n",
              "      border-bottom-color: var(--fill-color);\n",
              "    }\n",
              "  }\n",
              "</style>\n",
              "\n",
              "  <script>\n",
              "    async function quickchart(key) {\n",
              "      const quickchartButtonEl =\n",
              "        document.querySelector('#' + key + ' button');\n",
              "      quickchartButtonEl.disabled = true;  // To prevent multiple clicks.\n",
              "      quickchartButtonEl.classList.add('colab-df-spinner');\n",
              "      try {\n",
              "        const charts = await google.colab.kernel.invokeFunction(\n",
              "            'suggestCharts', [key], {});\n",
              "      } catch (error) {\n",
              "        console.error('Error during call to suggestCharts:', error);\n",
              "      }\n",
              "      quickchartButtonEl.classList.remove('colab-df-spinner');\n",
              "      quickchartButtonEl.classList.add('colab-df-quickchart-complete');\n",
              "    }\n",
              "    (() => {\n",
              "      let quickchartButtonEl =\n",
              "        document.querySelector('#df-d946e921-1193-4aa6-9998-66225f1bfb94 button');\n",
              "      quickchartButtonEl.style.display =\n",
              "        google.colab.kernel.accessAllowed ? 'block' : 'none';\n",
              "    })();\n",
              "  </script>\n",
              "</div>\n",
              "\n",
              "    </div>\n",
              "  </div>\n"
            ],
            "application/vnd.google.colaboratory.intrinsic+json": {
              "type": "dataframe",
              "summary": "{\n  \"name\": \"pdbs[['RESN','RESwt','RESmut']]\",\n  \"rows\": 1509,\n  \"fields\": [\n    {\n      \"column\": \"RESN\",\n      \"properties\": {\n        \"dtype\": \"number\",\n        \"std\": 74,\n        \"min\": 1,\n        \"max\": 509,\n        \"num_unique_values\": 229,\n        \"samples\": [\n          211,\n          46,\n          86\n        ],\n        \"semantic_type\": \"\",\n        \"description\": \"\"\n      }\n    },\n    {\n      \"column\": \"RESwt\",\n      \"properties\": {\n        \"dtype\": \"category\",\n        \"num_unique_values\": 21,\n        \"samples\": [\n          \"VAL\",\n          \"PRO\",\n          \"TRP\"\n        ],\n        \"semantic_type\": \"\",\n        \"description\": \"\"\n      }\n    },\n    {\n      \"column\": \"RESmut\",\n      \"properties\": {\n        \"dtype\": \"category\",\n        \"num_unique_values\": 21,\n        \"samples\": [\n          \"ILE\",\n          \"TYR\",\n          \"MET\"\n        ],\n        \"semantic_type\": \"\",\n        \"description\": \"\"\n      }\n    }\n  ]\n}"
            }
          },
          "metadata": {},
          "execution_count": 7
        }
      ]
    },
    {
      "cell_type": "code",
      "source": [
        "alls=[]\n",
        "for resnum,wt in pdbs[['RESN','RESwt','RESmut','PDBid','ΔTmexp']].items():\n",
        "    alls.append(wt.values)\n",
        "d = {'CYS': 'C', 'ASP': 'D', 'SER': 'S', 'GLN': 'Q', 'LYS': 'K',\n",
        "     'ILE': 'I', 'PRO': 'P', 'THR': 'T', 'PHE': 'F', 'ASN': 'N',\n",
        "     'GLY': 'G', 'HIS': 'H', 'LEU': 'L', 'ARG': 'R', 'TRP': 'W',\n",
        "     'ALA': 'A', 'VAL':'V', 'GLU': 'E', 'TYR': 'Y', 'MET': 'M'}\n",
        "resnum=alls[0]\n",
        "wt=[d[x.strip()] for x in alls[1]] # extract the Wildtype aminoacid with one letter code\n",
        "mut=[d[x.strip()] for x in alls[2]] # extract the Mutation aminoacid with one letter code\n",
        "codes=alls[3] # PDB code\n",
        "tms=alls[4] # Melting temperature"
      ],
      "metadata": {
        "id": "nMuYRMjtu0uv"
      },
      "execution_count": null,
      "outputs": []
    },
    {
      "cell_type": "code",
      "source": [
        "print(\"pdbid {}, WT-AA {}, Resnum {}, MUT-AA {},DeltaTm {}\".format(codes[0],wt[0],resnum[0],mut[0],tms[0]))"
      ],
      "metadata": {
        "colab": {
          "base_uri": "https://localhost:8080/"
        },
        "id": "oYD6xkRHvJ2W",
        "outputId": "10b7b5ab-fe44-44f2-c1d4-94ac2fffb64f"
      },
      "execution_count": null,
      "outputs": [
        {
          "output_type": "stream",
          "name": "stdout",
          "text": [
            "pdbid 1aky, WT-AA V, Resnum 8, MUT-AA I,DeltaTm -1.5\n"
          ]
        }
      ]
    },
    {
      "cell_type": "markdown",
      "source": [
        "#**PDB DOWNLOAD**"
      ],
      "metadata": {
        "id": "yMO6b5BusDa1"
      }
    },
    {
      "cell_type": "code",
      "source": [
        "from pdbfixer import PDBFixer\n",
        "from simtk.openmm.app import PDBFile\n",
        "!mkdir PDBs"
      ],
      "metadata": {
        "colab": {
          "base_uri": "https://localhost:8080/"
        },
        "id": "4eGIpXy-vQyj",
        "outputId": "a7c78b84-a6d0-427b-f48d-2202dc160724"
      },
      "execution_count": null,
      "outputs": [
        {
          "output_type": "stream",
          "name": "stderr",
          "text": [
            "WARNING:root:Warning: importing 'simtk.openmm' is deprecated.  Import 'openmm' instead.\n"
          ]
        }
      ]
    },
    {
      "cell_type": "code",
      "source": [
        "import os\n",
        "import time\n",
        "t0 = time.time()\n",
        "\n",
        "downloaded = os.listdir(\"PDBs\")\n",
        "PDBs_ids= set(pdbs['PDBid'])\n",
        "pdb_list = []\n",
        "print(\"Start Download \")\n",
        "for pdbid in PDBs_ids:\n",
        "    name=pdbid+\".pdb\"\n",
        "    if(name in downloaded):\n",
        "        continue\n",
        "    try:\n",
        "        fixer = PDBFixer(pdbid=pdbid)\n",
        "        fixer.findMissingResidues()\n",
        "        fixer.findNonstandardResidues()\n",
        "        fixer.replaceNonstandardResidues()\n",
        "        fixer.removeHeterogens(True)\n",
        "        fixer.findMissingAtoms()\n",
        "        fixer.addMissingAtoms()\n",
        "        PDBFile.writeFile(fixer.topology, fixer.positions, open('./PDBs/%s.pdb' % (pdbid), 'w'),keepIds=True)\n",
        "    except:\n",
        "        print(\"Problem with {}\".format(pdbid))\n",
        "print(\"Total Time {}\".format(time.time()-t0))"
      ],
      "metadata": {
        "colab": {
          "base_uri": "https://localhost:8080/"
        },
        "id": "rr4ndLKMvTWa",
        "outputId": "75c3f74b-1b29-4bbc-b538-6b53522a3292"
      },
      "execution_count": null,
      "outputs": [
        {
          "output_type": "stream",
          "name": "stdout",
          "text": [
            "Start Download \n",
            "Total Time 710.4260959625244\n"
          ]
        }
      ]
    },
    {
      "cell_type": "code",
      "source": [
        "import re\n",
        "def MutateSeq(seq,Mutant):\n",
        "    '''\n",
        "    Mutate a sequence based on a string (Mutant) that has the notation :\n",
        "    A###B where A is the wildtype aminoacid ### the position and B the mutation\n",
        "    '''\n",
        "    aalist = re.findall('([A-Z])([0-9]+)([A-Z])', Mutant)\n",
        "\n",
        "    #(len(aalist)==1):\n",
        "    newseq=seq\n",
        "    listseq=list(newseq)\n",
        "    for aas in aalist:\n",
        "        wildAA = aas[0]\n",
        "        pos = int(aas[1]) -1\n",
        "        if(pos >= len(listseq)):\n",
        "            print(\"Mutation not in the range of the protein\")\n",
        "            return None\n",
        "        MutAA = aas[-1]\n",
        "\n",
        "        if(listseq[pos]==wildAA):\n",
        "\n",
        "            listseq[pos]=MutAA\n",
        "\n",
        "        else:\n",
        "            #print(\"WildType AA does not match\")\n",
        "            return None\n",
        "    return(\"\".join(listseq))"
      ],
      "metadata": {
        "id": "Mo3Zz7NEywLq"
      },
      "execution_count": null,
      "outputs": []
    },
    {
      "cell_type": "code",
      "source": [
        "!pip install biopython"
      ],
      "metadata": {
        "colab": {
          "base_uri": "https://localhost:8080/"
        },
        "id": "sKwl7FGVzK65",
        "outputId": "bb86305d-3972-4609-9945-08db38c84ede"
      },
      "execution_count": null,
      "outputs": [
        {
          "output_type": "stream",
          "name": "stdout",
          "text": [
            "Collecting biopython\n",
            "  Downloading biopython-1.83-cp310-cp310-manylinux_2_17_x86_64.manylinux2014_x86_64.whl (3.1 MB)\n",
            "\u001b[2K     \u001b[90m━━━━━━━━━━━━━━━━━━━━━━━━━━━━━━━━━━━━━━━━\u001b[0m \u001b[32m3.1/3.1 MB\u001b[0m \u001b[31m29.1 MB/s\u001b[0m eta \u001b[36m0:00:00\u001b[0m\n",
            "\u001b[?25hRequirement already satisfied: numpy in /usr/local/lib/python3.10/dist-packages (from biopython) (1.25.2)\n",
            "Installing collected packages: biopython\n",
            "Successfully installed biopython-1.83\n"
          ]
        }
      ]
    },
    {
      "cell_type": "code",
      "source": [
        "import Bio"
      ],
      "metadata": {
        "id": "SvKGXMdIzK4G"
      },
      "execution_count": null,
      "outputs": []
    },
    {
      "cell_type": "code",
      "source": [
        "from Bio.PDB.PDBParser import PDBParser\n",
        "from Bio.PDB.Polypeptide import PPBuilder\n",
        "ppb=PPBuilder()\n",
        "def GetSeqFromPDB(pdbid):\n",
        "    structure = PDBParser().get_structure(pdbid.split(\".\")[0], 'PDBs/{}'.format(pdbid))\n",
        "    seqs=[]\n",
        "    return ppb.build_peptides(structure)"
      ],
      "metadata": {
        "id": "2mAkK2oyy9Xe"
      },
      "execution_count": null,
      "outputs": []
    },
    {
      "cell_type": "code",
      "source": [
        "import warnings; warnings.simplefilter('ignore')\n",
        "test=\"1ezm\"\n",
        "print(test)\n",
        "seq = GetSeqFromPDB(\"{}.pdb\".format(test))[0].get_sequence()\n",
        "print(\"Original Sequence\")\n",
        "print(seq)"
      ],
      "metadata": {
        "colab": {
          "base_uri": "https://localhost:8080/"
        },
        "id": "tqCSmK6NzzcI",
        "outputId": "bc1f7b43-fffe-4ce0-867e-4fe143018721"
      },
      "execution_count": null,
      "outputs": [
        {
          "output_type": "stream",
          "name": "stdout",
          "text": [
            "1ezm\n",
            "Original Sequence\n",
            "AEAGGPGGNQKIGKYTYGSDYGPLIVNDRCEMDDGNVITVDMNSSTDDSKTTPFRFACPTNTYKQVNGAYSPLNDAHFFGGVVFKLYRDWFGTSPLTHKLYMKVHYGRSVENAYWDGTAMLFGDGATMFYPLVSLDVAAHEVSHGFTEQNSGLIYRGQSGGMNEAFSDMAGEAAEFYMRGKNDFLIGYDIKKGSGALRYMDQPSRDGRSIDNASQYYNGIDVHHSSGVYNRAFYLLANSPGWDTRKAFEVFVDANRYYWTATSNYNSGACGVIRSAQNRNYSAADVTRAFSTVGVTCPSAL\n"
          ]
        }
      ]
    },
    {
      "cell_type": "code",
      "source": [
        "informSeq=GetSeqFromPDB(test+\".pdb\")[0].__repr__()\n",
        "print(\"Seq information\",informSeq)\n",
        "start = re.findall('[0-9]+',informSeq)[0]\n",
        "print(\"Reported Mutation {}{}{}\".format(\"R\",179,\"A\"))\n",
        "numf =179 - int(start) + 1  # fix some cases of negative aminoacid numbers"
      ],
      "metadata": {
        "colab": {
          "base_uri": "https://localhost:8080/"
        },
        "id": "rkLjiU0Ez5H9",
        "outputId": "f8a704e9-9880-4c45-a16f-ac1f30c80667"
      },
      "execution_count": null,
      "outputs": [
        {
          "output_type": "stream",
          "name": "stdout",
          "text": [
            "Seq information <Polypeptide start=1 end=301>\n",
            "Reported Mutation R179A\n"
          ]
        }
      ]
    },
    {
      "cell_type": "code",
      "source": [
        "mutfinal = \"R{}A\".format(numf)\n",
        "print(\"Real Mutation = \",mutfinal)\n",
        "mutseq = MutateSeq(seq,mutfinal)\n",
        "print(mutseq)"
      ],
      "metadata": {
        "colab": {
          "base_uri": "https://localhost:8080/"
        },
        "id": "eC6c8gFMz-Xj",
        "outputId": "ec950eac-b683-4c55-bed2-c5451e96d7f0"
      },
      "execution_count": null,
      "outputs": [
        {
          "output_type": "stream",
          "name": "stdout",
          "text": [
            "Real Mutation =  R179A\n",
            "AEAGGPGGNQKIGKYTYGSDYGPLIVNDRCEMDDGNVITVDMNSSTDDSKTTPFRFACPTNTYKQVNGAYSPLNDAHFFGGVVFKLYRDWFGTSPLTHKLYMKVHYGRSVENAYWDGTAMLFGDGATMFYPLVSLDVAAHEVSHGFTEQNSGLIYRGQSGGMNEAFSDMAGEAAEFYMAGKNDFLIGYDIKKGSGALRYMDQPSRDGRSIDNASQYYNGIDVHHSSGVYNRAFYLLANSPGWDTRKAFEVFVDANRYYWTATSNYNSGACGVIRSAQNRNYSAADVTRAFSTVGVTCPSAL\n"
          ]
        }
      ]
    },
    {
      "cell_type": "code",
      "source": [
        "information = {}\n",
        "count = 1\n",
        "failures=[]\n",
        "for code,tm,numr,wt_val,mut_val in zip(codes,tms,resnum,wt,mut):\n",
        "    count += 1\n",
        "    seq = GetSeqFromPDB(\"{}.pdb\".format(code))[0].get_sequence()\n",
        "    mutfinal=\"WT\"\n",
        "    if(\"{}-{}\".format(code,mutfinal) not in information):\n",
        "        informSeq=GetSeqFromPDB(code+\".pdb\")[0].__repr__()\n",
        "        start = re.findall('[-0-9]+',informSeq)[0]\n",
        "    if(int(start)<0):\n",
        "        numf =numr - int(start) # if start is negative 0 is not used as resnumber\n",
        "    else:\n",
        "        numf =numr - int(start) + 1\n",
        "    mutfinal = \"{}{}{}\".format(wt_val,numf,mut_val)\n",
        "    mutseq = MutateSeq(seq,mutfinal)\n",
        "    if(mutseq==None):\n",
        "        failures.append((code,mutfinal))\n",
        "        continue\n",
        "    information[\"{}-{}\".format(code,mutfinal)]=[mutseq,dict_WT_TM[code]-float(tm)]"
      ],
      "metadata": {
        "colab": {
          "base_uri": "https://localhost:8080/"
        },
        "id": "jXnT_3VC0Jpd",
        "outputId": "258c804a-f762-476b-f729-d39182530877"
      },
      "execution_count": null,
      "outputs": [
        {
          "output_type": "stream",
          "name": "stdout",
          "text": [
            "Mutation not in the range of the protein\n",
            "Mutation not in the range of the protein\n",
            "Mutation not in the range of the protein\n",
            "Mutation not in the range of the protein\n",
            "Mutation not in the range of the protein\n",
            "Mutation not in the range of the protein\n",
            "Mutation not in the range of the protein\n",
            "Mutation not in the range of the protein\n",
            "Mutation not in the range of the protein\n"
          ]
        }
      ]
    },
    {
      "cell_type": "markdown",
      "source": [
        "Deep Learning model\n"
      ],
      "metadata": {
        "id": "Dif6VtVH0_AC"
      }
    },
    {
      "cell_type": "code",
      "source": [
        "import deepchem as dc\n",
        "import tensorflow as tf"
      ],
      "metadata": {
        "id": "7wVGbEB108BS"
      },
      "execution_count": null,
      "outputs": []
    },
    {
      "cell_type": "code",
      "source": [
        "seq_list=[]\n",
        "deltaTm=[]\n",
        "for i in information.values():\n",
        "    seq_list.append(i[0])\n",
        "    deltaTm.append(i[1])\n"
      ],
      "metadata": {
        "id": "Vrl2EPEh1FN-"
      },
      "execution_count": null,
      "outputs": []
    },
    {
      "cell_type": "code",
      "source": [
        "max_seq= 0\n",
        "for i in seq_list:\n",
        "    if(len(i)>max_seq):\n",
        "        max_seq=len(i)"
      ],
      "metadata": {
        "id": "ii2We-EW1J-a"
      },
      "execution_count": null,
      "outputs": []
    },
    {
      "cell_type": "markdown",
      "source": [
        "OneHotFeaturizer in order to convert protein sequences in numeric arrays"
      ],
      "metadata": {
        "id": "kVorM4MLs5l_"
      }
    },
    {
      "cell_type": "code",
      "source": [
        "codes = ['A', 'C', 'D', 'E', 'F', 'G', 'H', 'I', 'K', 'L',\n",
        "         'M', 'N', 'P', 'Q', 'R', 'S', 'T', 'V', 'W', 'Y']\n",
        "OneHotFeaturizer = dc.feat.OneHotFeaturizer(codes,max_length=max_seq)\n",
        "features = OneHotFeaturizer.featurize(seq_list)"
      ],
      "metadata": {
        "id": "6668jxtP1Ndl"
      },
      "execution_count": null,
      "outputs": []
    },
    {
      "cell_type": "code",
      "source": [
        "features_vector  = []\n",
        "for i in range(len(features)):\n",
        "    features_vector.append(features[i].flatten())"
      ],
      "metadata": {
        "id": "r4XMLIlS1T1s"
      },
      "execution_count": null,
      "outputs": []
    },
    {
      "cell_type": "code",
      "source": [
        "dc_dataset = dc.data.NumpyDataset(X=features_vector,y=deltaTm)"
      ],
      "metadata": {
        "id": "63hYY8MM1ZDA"
      },
      "execution_count": null,
      "outputs": []
    },
    {
      "cell_type": "code",
      "source": [
        "dc_dataset"
      ],
      "metadata": {
        "colab": {
          "base_uri": "https://localhost:8080/"
        },
        "id": "o_IRRfan1dE0",
        "outputId": "bc39ed51-bf58-44fc-8fbf-16df453cafb6"
      },
      "execution_count": null,
      "outputs": [
        {
          "output_type": "execute_result",
          "data": {
            "text/plain": [
              "<NumpyDataset X.shape: (1488, 13188), y.shape: (1488,), w.shape: (1488,), task_names: [0]>"
            ]
          },
          "metadata": {},
          "execution_count": 28
        }
      ]
    },
    {
      "cell_type": "code",
      "source": [
        "from deepchem import splits\n",
        "splitter = splits.RandomSplitter()\n",
        "train, test  = splitter.train_test_split(dc_dataset,seed=42)"
      ],
      "metadata": {
        "id": "XjKfecD01jCJ"
      },
      "execution_count": null,
      "outputs": []
    },
    {
      "cell_type": "code",
      "source": [
        "import tensorflow.keras as keras\n",
        "#from  keras import layers\n",
        "model = tf.keras.Sequential([\n",
        "    keras.layers.Dense(units=32, activation='relu', input_shape=dc_dataset.X.shape[1:]),\n",
        "    keras.layers.Dropout(0.2),\n",
        "    keras.layers.Dense(units=32, activation='relu'),\n",
        "    keras.layers.Dropout(0.2),\n",
        "    keras.layers.Dense(units=1),\n",
        "])"
      ],
      "metadata": {
        "id": "pXj6Sktv1rqb"
      },
      "execution_count": null,
      "outputs": []
    },
    {
      "cell_type": "code",
      "source": [
        "model.compile(loss='mae', optimizer='adam')\n",
        "\n",
        "print(model.summary())\n",
        "\n",
        "history = model.fit(\n",
        "    train.X, train.y,\n",
        "    validation_data=(test.X,test.y),\n",
        "    batch_size=100,\n",
        "    epochs=30,\n",
        ")\n",
        "\n",
        "## perform a plot of loss vs epochs\n",
        "import matplotlib.pyplot as plt\n",
        "history_df = pd.DataFrame(history.history)\n",
        "history_df[['loss', 'val_loss']].plot()\n"
      ],
      "metadata": {
        "colab": {
          "base_uri": "https://localhost:8080/",
          "height": 1000
        },
        "id": "qiELjH051tS2",
        "outputId": "058de312-f618-4ab6-b755-0cac5c2d4f4e"
      },
      "execution_count": null,
      "outputs": [
        {
          "output_type": "stream",
          "name": "stdout",
          "text": [
            "Model: \"sequential\"\n",
            "_________________________________________________________________\n",
            " Layer (type)                Output Shape              Param #   \n",
            "=================================================================\n",
            " dense (Dense)               (None, 32)                422048    \n",
            "                                                                 \n",
            " dropout (Dropout)           (None, 32)                0         \n",
            "                                                                 \n",
            " dense_1 (Dense)             (None, 32)                1056      \n",
            "                                                                 \n",
            " dropout_1 (Dropout)         (None, 32)                0         \n",
            "                                                                 \n",
            " dense_2 (Dense)             (None, 1)                 33        \n",
            "                                                                 \n",
            "=================================================================\n",
            "Total params: 423137 (1.61 MB)\n",
            "Trainable params: 423137 (1.61 MB)\n",
            "Non-trainable params: 0 (0.00 Byte)\n",
            "_________________________________________________________________\n",
            "None\n",
            "Epoch 1/30\n",
            "12/12 [==============================] - 4s 142ms/step - loss: 59.7797 - val_loss: 51.2060\n",
            "Epoch 2/30\n",
            "12/12 [==============================] - 0s 21ms/step - loss: 41.8218 - val_loss: 27.3559\n",
            "Epoch 3/30\n",
            "12/12 [==============================] - 0s 23ms/step - loss: 20.3125 - val_loss: 9.7734\n",
            "Epoch 4/30\n",
            "12/12 [==============================] - 0s 22ms/step - loss: 17.4683 - val_loss: 8.7424\n",
            "Epoch 5/30\n",
            "12/12 [==============================] - 0s 21ms/step - loss: 15.8719 - val_loss: 10.8037\n",
            "Epoch 6/30\n",
            "12/12 [==============================] - 0s 24ms/step - loss: 14.5827 - val_loss: 7.4026\n",
            "Epoch 7/30\n",
            "12/12 [==============================] - 0s 23ms/step - loss: 14.5261 - val_loss: 7.2875\n",
            "Epoch 8/30\n",
            "12/12 [==============================] - 0s 23ms/step - loss: 13.6781 - val_loss: 6.9500\n",
            "Epoch 9/30\n",
            "12/12 [==============================] - 0s 19ms/step - loss: 13.6641 - val_loss: 7.8255\n",
            "Epoch 10/30\n",
            "12/12 [==============================] - 0s 16ms/step - loss: 12.6191 - val_loss: 6.0373\n",
            "Epoch 11/30\n",
            "12/12 [==============================] - 0s 16ms/step - loss: 12.7853 - val_loss: 7.0264\n",
            "Epoch 12/30\n",
            "12/12 [==============================] - 0s 16ms/step - loss: 12.5619 - val_loss: 5.7593\n",
            "Epoch 13/30\n",
            "12/12 [==============================] - 0s 16ms/step - loss: 12.1342 - val_loss: 5.7618\n",
            "Epoch 14/30\n",
            "12/12 [==============================] - 0s 20ms/step - loss: 11.7809 - val_loss: 5.9264\n",
            "Epoch 15/30\n",
            "12/12 [==============================] - 0s 20ms/step - loss: 12.1220 - val_loss: 5.0706\n",
            "Epoch 16/30\n",
            "12/12 [==============================] - 0s 19ms/step - loss: 11.9823 - val_loss: 5.1327\n",
            "Epoch 17/30\n",
            "12/12 [==============================] - 0s 19ms/step - loss: 11.7334 - val_loss: 6.9535\n",
            "Epoch 18/30\n",
            "12/12 [==============================] - 0s 25ms/step - loss: 11.8054 - val_loss: 6.3297\n",
            "Epoch 19/30\n",
            "12/12 [==============================] - 0s 18ms/step - loss: 11.4916 - val_loss: 5.6395\n",
            "Epoch 20/30\n",
            "12/12 [==============================] - 0s 19ms/step - loss: 11.3159 - val_loss: 5.0516\n",
            "Epoch 21/30\n",
            "12/12 [==============================] - 0s 18ms/step - loss: 11.6391 - val_loss: 5.5335\n",
            "Epoch 22/30\n",
            "12/12 [==============================] - 0s 22ms/step - loss: 11.3231 - val_loss: 5.4333\n",
            "Epoch 23/30\n",
            "12/12 [==============================] - 0s 17ms/step - loss: 11.2471 - val_loss: 5.3113\n",
            "Epoch 24/30\n",
            "12/12 [==============================] - 0s 19ms/step - loss: 11.0115 - val_loss: 5.6411\n",
            "Epoch 25/30\n",
            "12/12 [==============================] - 0s 18ms/step - loss: 10.9318 - val_loss: 5.3609\n",
            "Epoch 26/30\n",
            "12/12 [==============================] - 0s 19ms/step - loss: 10.9860 - val_loss: 5.8289\n",
            "Epoch 27/30\n",
            "12/12 [==============================] - 0s 20ms/step - loss: 11.4384 - val_loss: 5.4344\n",
            "Epoch 28/30\n",
            "12/12 [==============================] - 0s 19ms/step - loss: 11.0988 - val_loss: 5.9539\n",
            "Epoch 29/30\n",
            "12/12 [==============================] - 0s 18ms/step - loss: 10.8697 - val_loss: 6.2663\n",
            "Epoch 30/30\n",
            "12/12 [==============================] - 0s 18ms/step - loss: 10.5645 - val_loss: 5.1046\n"
          ]
        },
        {
          "output_type": "execute_result",
          "data": {
            "text/plain": [
              "<Axes: >"
            ]
          },
          "metadata": {},
          "execution_count": 31
        },
        {
          "output_type": "display_data",
          "data": {
            "text/plain": [
              "<Figure size 640x480 with 1 Axes>"
            ],
            "image/png": "[encoded data removed]"
          },
          "metadata": {}
        }
      ]
    },
    {
      "cell_type": "code",
      "source": [
        "model_dc = dc.models.KerasModel(model, dc.models.losses.L1Loss())\n",
        "model_dc.fit(train)"
      ],
      "metadata": {
        "colab": {
          "base_uri": "https://localhost:8080/"
        },
        "id": "KmEIRqVU2B_j",
        "outputId": "d6e4cb26-de65-45b1-dea1-7ebb425fa72f"
      },
      "execution_count": null,
      "outputs": [
        {
          "output_type": "execute_result",
          "data": {
            "text/plain": [
              "10.19046401977539"
            ]
          },
          "metadata": {},
          "execution_count": 32
        }
      ]
    },
    {
      "cell_type": "code",
      "source": [
        "History_df = pd.DataFrame(model_dc.model.history.history)\n",
        "History_df[['loss', 'val_loss']].plot()"
      ],
      "metadata": {
        "colab": {
          "base_uri": "https://localhost:8080/",
          "height": 448
        },
        "id": "QiuGs8322J1t",
        "outputId": "7039e7a0-0069-40ec-c54c-3b173e90ae5e"
      },
      "execution_count": null,
      "outputs": [
        {
          "output_type": "execute_result",
          "data": {
            "text/plain": [
              "<Axes: >"
            ]
          },
          "metadata": {},
          "execution_count": 33
        },
        {
          "output_type": "display_data",
          "data": {
            "text/plain": [
              "<Figure size 640x480 with 1 Axes>"
            ],
            "image/png": "[encoded data removed]"
          },
          "metadata": {}
        }
      ]
    },
    {
      "cell_type": "markdown",
      "source": [],
      "metadata": {
        "id": "iFLsc05G2NwN"
      }
    },
    {
      "cell_type": "code",
      "source": [
        "#metric values for Keras Model\n",
        "metric = dc.metrics.Metric(dc.metrics.pearson_r2_score)\n",
        "print('test dataset R2:', model_dc.evaluate(test, [metric]))"
      ],
      "metadata": {
        "colab": {
          "base_uri": "https://localhost:8080/"
        },
        "id": "QmA5fRZ12LaO",
        "outputId": "d7e81182-b82a-40fd-e73c-6340662a8a8e"
      },
      "execution_count": null,
      "outputs": [
        {
          "output_type": "stream",
          "name": "stdout",
          "text": [
            "test dataset R2: {'pearson_r2_score': 0.7599158876241887}\n"
          ]
        }
      ]
    },
    {
      "cell_type": "markdown",
      "source": [
        "ml models\n"
      ],
      "metadata": {
        "id": "9Fl1SX8G40Dg"
      }
    },
    {
      "cell_type": "code",
      "source": [
        "from propy import PyPro"
      ],
      "metadata": {
        "id": "Q15L9zBo3BBu"
      },
      "execution_count": null,
      "outputs": []
    },
    {
      "cell_type": "code",
      "source": [
        "import numpy as np\n",
        "aaComplist = []\n",
        "CTDList =[]\n",
        "for seq in seq_list:\n",
        "    Obj = PyPro.GetProDes(seq)\n",
        "    aaComplist.append(np.array(list(Obj.GetAAComp().values())))\n",
        "    CTDList.append(np.array(list(Obj.GetCTD().values())))"
      ],
      "metadata": {
        "id": "7QfYEoTw3IM5"
      },
      "execution_count": null,
      "outputs": []
    },
    {
      "cell_type": "code",
      "source": [
        "dc_dataset_aacomp = dc.data.NumpyDataset(X=aaComplist,y=deltaTm)\n",
        "dc_dataset_ctd = dc.data.NumpyDataset(X=CTDList,y=deltaTm)"
      ],
      "metadata": {
        "id": "bwE_q48D3PGE"
      },
      "execution_count": null,
      "outputs": []
    },
    {
      "cell_type": "code",
      "source": [
        "from deepchem import splits\n",
        "splitter = splits.RandomSplitter()\n",
        "train, test  = splitter.train_test_split(dc_dataset_aacomp,seed=42)\n",
        "from sklearn.ensemble import RandomForestRegressor\n",
        "from deepchem.utils.evaluate import Evaluator\n",
        "import pandas as pd\n",
        "print(\"RandomForestRegressor\")\n",
        "seed = 42 # Set a random seed to get stable results\n",
        "sklearn_model = RandomForestRegressor(n_estimators=100, max_features='sqrt')\n",
        "sklearn_model.random_state = seed\n",
        "model = dc.models.SklearnModel(sklearn_model)\n",
        "model.fit(train)\n",
        "metric = dc.metrics.Metric(dc.metrics.mae_score)\n",
        "train_score = model.evaluate(train, [metric])\n",
        "test_score = model.evaluate(test, [metric])\n",
        "print(\"Train score is : {}\".format(train_score))\n",
        "print(\"Test score is : {}\".format(test_score))"
      ],
      "metadata": {
        "colab": {
          "base_uri": "https://localhost:8080/"
        },
        "id": "zew84VKL3Sql",
        "outputId": "601fd845-e953-4021-d3d8-f91175bf7ad6"
      },
      "execution_count": null,
      "outputs": [
        {
          "output_type": "stream",
          "name": "stdout",
          "text": [
            "RandomForestRegressor\n",
            "Train score is : {'mae_score': 1.814615638665721}\n",
            "Test score is : {'mae_score': 3.611564448948649}\n"
          ]
        }
      ]
    },
    {
      "cell_type": "code",
      "source": [
        "# Define the scores\n",
        "train_score = {'mae_score': 1.814615638665721}\n",
        "test_score = {'mae_score': 3.611564448948649}\n",
        "\n",
        "# Extract the scores\n",
        "train_mae = train_score['mae_score']\n",
        "test_mae = test_score['mae_score']\n",
        "\n",
        "# Define labels and values\n",
        "labels = ['Train', 'Test']\n",
        "mae_scores = [train_mae, test_mae]\n",
        "\n",
        "# Plot the bar chart\n",
        "plt.figure(figsize=(8, 6))\n",
        "plt.bar(labels, mae_scores, color=['blue', 'orange'])\n",
        "plt.xlabel('Dataset')\n",
        "plt.ylabel('Mean Absolute Error (MAE)')\n",
        "plt.title('Performance of RandomForestRegressor')\n",
        "plt.ylim(0, max(mae_scores) * 1.1)  # Set y-axis limit slightly above the maximum value\n",
        "plt.grid(axis='y', linestyle='--', alpha=0.7)\n",
        "plt.show()"
      ],
      "metadata": {
        "colab": {
          "base_uri": "https://localhost:8080/",
          "height": 564
        },
        "id": "_qN9Pcg766qa",
        "outputId": "b42dca98-e3dd-4483-ade0-aec703eb0c4c"
      },
      "execution_count": null,
      "outputs": [
        {
          "output_type": "display_data",
          "data": {
            "text/plain": [
              "<Figure size 800x600 with 1 Axes>"
            ],
            "image/png": "[encoded data removed]"
          },
          "metadata": {}
        }
      ]
    },
    {
      "cell_type": "code",
      "source": [
        "print(\"SupportVectorMachineRegressor\")\n",
        "from sklearn.svm import SVR\n",
        "svr_sklearn = SVR(kernel=\"poly\",degree=4)\n",
        "svr_sklearn.random_state = seed\n",
        "model = dc.models.SklearnModel(svr_sklearn)\n",
        "model.fit(train)\n",
        "metric = dc.metrics.Metric(dc.metrics.mae_score)\n",
        "train_score = model.evaluate(train, [metric])\n",
        "test_score = model.evaluate(test, [metric])\n",
        "print(\"Train score is : {}\".format(train_score))\n",
        "print(\"Test score is : {}\".format(test_score))"
      ],
      "metadata": {
        "colab": {
          "base_uri": "https://localhost:8080/"
        },
        "id": "rQ93h8Cp3e_x",
        "outputId": "01afe4a6-b6e3-4131-af1f-f2a976cb9ef9"
      },
      "execution_count": null,
      "outputs": [
        {
          "output_type": "stream",
          "name": "stdout",
          "text": [
            "SupportVectorMachineRegressor\n",
            "Train score is : {'mae_score': 3.280893858998118}\n",
            "Test score is : {'mae_score': 3.995064939603877}\n"
          ]
        }
      ]
    },
    {
      "cell_type": "code",
      "source": [
        "import matplotlib.pyplot as plt\n",
        "\n",
        "# Define the labels and scores\n",
        "labels = ['Train', 'Test']\n",
        "scores = [train_score['mae_score'], test_score['mae_score']]\n",
        "\n",
        "# Plot the bar graph\n",
        "plt.figure(figsize=(6, 4))\n",
        "plt.bar(labels, scores, color=['blue', 'green'])\n",
        "plt.xlabel('Dataset')\n",
        "plt.ylabel('Mean Absolute Error (MAE)')\n",
        "plt.title('Performance of Support Vector Machine Regressor')\n",
        "plt.ylim(0, max(scores) * 1.1)  # Adjust ylim for better visualization\n",
        "plt.show()\n"
      ],
      "metadata": {
        "colab": {
          "base_uri": "https://localhost:8080/",
          "height": 410
        },
        "id": "YbBmaKYa8BXP",
        "outputId": "9fd6d58a-eb45-45b8-b644-33770f0be685"
      },
      "execution_count": null,
      "outputs": [
        {
          "output_type": "display_data",
          "data": {
            "text/plain": [
              "<Figure size 600x400 with 1 Axes>"
            ],
            "image/png": "[encoded data removed]"
          },
          "metadata": {}
        }
      ]
    }
  ]
}